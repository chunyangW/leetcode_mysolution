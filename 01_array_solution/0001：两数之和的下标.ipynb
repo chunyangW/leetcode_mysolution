{
 "cells": [
  {
   "cell_type": "markdown",
   "metadata": {},
   "source": [
    "class Solution: 定义了一个名为 Solution 的类。\n",
    "def twoSum(self, nums: List[int], target: int) -> List[int]: 是这个类中的一个方法定义。\n",
    "self 是类方法的第一个参数，指代类的实例。\n",
    "nums: List[int] 表示方法接受一个名为 nums 的参数，它是一个整数列表。\n",
    "target: int 表示方法接受一个名为 target 的参数，它是一个整数。\n",
    "-> List[int] 表示方法的返回值类型是一个整数列表。"
   ]
  },
  {
   "cell_type": "code",
   "execution_count": null,
   "metadata": {},
   "outputs": [],
   "source": [
    "# brute search\n",
    "\n",
    "\n",
    "class Solution:\n",
    "    def twoSum(self, nums: List[int], target: int) -> List[int]:   # 意思是nums为一个接收整数列表的变量，target为一个接收整数的变量 ->为返回类型为整数列表\n",
    "        for i in range(0,len(nums)):\n",
    "            for j in range(i+1,len(nums)):\n",
    "                if nums[i] + nums[j] == target:\n",
    "                    return [i,j]\n",
    "        \n",
    "                "
   ]
  },
  {
   "cell_type": "code",
   "execution_count": 2,
   "metadata": {},
   "outputs": [],
   "source": [
    "# hash map\n",
    "# 用数字作为key来找寻存储了作为value的数组索引\n",
    "from typing import List\n",
    "\n",
    "\n",
    "class Solution:\n",
    "    def twoSum(self, nums: List[int], target: int) -> List[int]:\n",
    "        hashtable = {}\n",
    "        for i,num in enumerate(nums):  # enumerate 返回的每一个元素都是一个有两个东西的元组 包括索引与值对应的元素 enumerate（iterable,start = 0）  enumerate(枚举的意思) start=0 说明索引是从0开始递增的\n",
    "            if target - num in hashtable:   # 对于dic来说 查询 in 操作是 查询是不是在key 中\n",
    "                return [hashtable[target - num],i]\n",
    "            hashtable[num] = i  # 添加到dic需要用[key]  = vlaue 形式\n"
   ]
  }
 ],
 "metadata": {
  "kernelspec": {
   "display_name": "base",
   "language": "python",
   "name": "python3"
  },
  "language_info": {
   "codemirror_mode": {
    "name": "ipython",
    "version": 3
   },
   "file_extension": ".py",
   "mimetype": "text/x-python",
   "name": "python",
   "nbconvert_exporter": "python",
   "pygments_lexer": "ipython3",
   "version": "3.11.7"
  }
 },
 "nbformat": 4,
 "nbformat_minor": 2
}
