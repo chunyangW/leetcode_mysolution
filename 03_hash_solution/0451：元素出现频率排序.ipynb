{
 "cells": [
  {
   "cell_type": "code",
   "execution_count": 4,
   "metadata": {},
   "outputs": [
    {
     "data": {
      "text/plain": [
       "'eert'"
      ]
     },
     "execution_count": 4,
     "metadata": {},
     "output_type": "execute_result"
    }
   ],
   "source": [
    "import heapq # python 中实现的是最小堆，有heapq.heappush(heap, item), heapq.heapify(list), heapqheappop(heap)\n",
    "  # 最小堆排序\n",
    "class Solution:\n",
    "    def frequencySort(self, s: str) -> str:\n",
    "        count = {}\n",
    "        for c in s:\n",
    "            count[c] = count.get(c, 0) + 1\n",
    "        items = [(-val, key) for key, val in count.items()]   # dict.items()会返回一个元组\n",
    "        heapq.heapify(items)\n",
    "        res = \"\"\n",
    "        while items:\n",
    "            val, key = heapq.heappop(items)\n",
    "            res += key * (-val)\n",
    "        return res\n",
    "\n",
    "test = Solution()\n",
    "test.frequencySort(\"tree\")"
   ]
  },
  {
   "cell_type": "markdown",
   "metadata": {},
   "source": [
    "## 下面直接使用counter类中most_common()函数也能返回降序元素"
   ]
  },
  {
   "cell_type": "code",
   "execution_count": 7,
   "metadata": {},
   "outputs": [
    {
     "name": "stdout",
     "output_type": "stream",
     "text": [
      "[('e', 2), ('t', 1), ('r', 1)]\n"
     ]
    },
    {
     "data": {
      "text/plain": [
       "'eetr'"
      ]
     },
     "execution_count": 7,
     "metadata": {},
     "output_type": "execute_result"
    }
   ],
   "source": [
    "from collections import Counter\n",
    "class Solution:\n",
    "    def frequencySort(self, s: str) -> str:\n",
    "        s = Counter(s).most_common()\n",
    "        print(s)\n",
    "        s = \"\".join([char * freq for char, freq in s])\n",
    "        return s\n",
    "    \n",
    "test = Solution()\n",
    "test.frequencySort(\"tree\")"
   ]
  },
  {
   "cell_type": "markdown",
   "metadata": {},
   "source": [
    "解释如下:"
   ]
  },
  {
   "cell_type": "code",
   "execution_count": 2,
   "metadata": {},
   "outputs": [
    {
     "name": "stdout",
     "output_type": "stream",
     "text": [
      "Element: l, Frequency: 2\n",
      "Element: h, Frequency: 1\n",
      "Element: e, Frequency: 1\n",
      "Element: o, Frequency: 1\n"
     ]
    }
   ],
   "source": [
    "from collections import Counter\n",
    "\n",
    "# 假设有一个字符串\n",
    "s = \"hello\"\n",
    "\n",
    "# 创建一个Counter对象\n",
    "counter = Counter(s)\n",
    "\n",
    "# 使用.most_common()获取所有元素和其频率\n",
    "for elem, freq in counter.most_common():\n",
    "    print(f'Element: {elem}, Frequency: {freq}')"
   ]
  }
 ],
 "metadata": {
  "kernelspec": {
   "display_name": "DL",
   "language": "python",
   "name": "python3"
  },
  "language_info": {
   "codemirror_mode": {
    "name": "ipython",
    "version": 3
   },
   "file_extension": ".py",
   "mimetype": "text/x-python",
   "name": "python",
   "nbconvert_exporter": "python",
   "pygments_lexer": "ipython3",
   "version": "3.8.19"
  }
 },
 "nbformat": 4,
 "nbformat_minor": 2
}
