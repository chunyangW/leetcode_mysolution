{
 "cells": [
  {
   "cell_type": "code",
   "execution_count": 4,
   "metadata": {},
   "outputs": [
    {
     "data": {
      "text/plain": [
       "'eert'"
      ]
     },
     "execution_count": 4,
     "metadata": {},
     "output_type": "execute_result"
    }
   ],
   "source": [
    "import heapq # python 中实现的是最小堆，有heapq.heappush(heap, item), heapq.heapify(list), heapqheappop(heap)\n",
    "  # 最小堆排序\n",
    "class Solution:\n",
    "    def frequencySort(self, s: str) -> str:\n",
    "        count = {}\n",
    "        for c in s:\n",
    "            count[c] = count.get(c, 0) + 1\n",
    "        items = [(-val, key) for key, val in count.items()]   # dict.items()会返回一个元组\n",
    "        heapq.heapify(items)\n",
    "        res = \"\"\n",
    "        while items:\n",
    "            val, key = heapq.heappop(items)\n",
    "            res += key * (-val)\n",
    "        return res\n",
    "\n",
    "test = Solution()\n",
    "test.frequencySort(\"tree\")"
   ]
  },
  {
   "cell_type": "markdown",
   "metadata": {},
   "source": [
    "## 下面直接使用counter类中most_common()函数也能返回降序元素"
   ]
  },
  {
   "cell_type": "code",
   "execution_count": 6,
   "metadata": {},
   "outputs": [
    {
     "name": "stdout",
     "output_type": "stream",
     "text": [
      "<itertools.chain object at 0x000001A4C50F7460>\n"
     ]
    },
    {
     "data": {
      "text/plain": [
       "'eetr'"
      ]
     },
     "execution_count": 6,
     "metadata": {},
     "output_type": "execute_result"
    }
   ],
   "source": [
    "from collections import Counter\n",
    "class Solution:\n",
    "    def frequencySort(self, s: str) -> str:\n",
    "        s = Counter(s).most_common()\n",
    "        s = Counter(dict(s)).elements()\n",
    "        print(s)\n",
    "        s = \"\".join(s)\n",
    "        return s\n",
    "    \n",
    "test = Solution()\n",
    "test.frequencySort(\"tree\")"
   ]
  }
 ],
 "metadata": {
  "kernelspec": {
   "display_name": "DL",
   "language": "python",
   "name": "python3"
  },
  "language_info": {
   "codemirror_mode": {
    "name": "ipython",
    "version": 3
   },
   "file_extension": ".py",
   "mimetype": "text/x-python",
   "name": "python",
   "nbconvert_exporter": "python",
   "pygments_lexer": "ipython3",
   "version": "3.8.19"
  }
 },
 "nbformat": 4,
 "nbformat_minor": 2
}
