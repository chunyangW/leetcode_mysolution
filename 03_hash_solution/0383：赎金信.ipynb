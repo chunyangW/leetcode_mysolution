{
 "cells": [
  {
   "cell_type": "code",
   "execution_count": null,
   "metadata": {},
   "outputs": [],
   "source": [
    "class Solution:\n",
    "    def canConstruct(self, ransomNote: str, magazine: str) -> bool:\n",
    "        # 是构成，也就是数量也得大于\n",
    "        table1 = {}\n",
    "        for item in magazine:\n",
    "            if item  in table1:\n",
    "                table1[item] += 1\n",
    "            else:\n",
    "                table1[item] = 1\n",
    "        for item in ransomNote:\n",
    "            if item in table1:\n",
    "                table1[item] -= 1\n",
    "                if table1[item] < 0:\n",
    "                    return False\n",
    "            else:\n",
    "                return False\n",
    "        return True"
   ]
  }
 ],
 "metadata": {
  "kernelspec": {
   "display_name": "DL",
   "language": "python",
   "name": "python3"
  },
  "language_info": {
   "name": "python",
   "version": "3.8.19"
  }
 },
 "nbformat": 4,
 "nbformat_minor": 2
}
