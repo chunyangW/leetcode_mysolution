{
 "cells": [
  {
   "cell_type": "code",
   "execution_count": 2,
   "metadata": {},
   "outputs": [
    {
     "name": "stdout",
     "output_type": "stream",
     "text": [
      "2\n",
      "2\n",
      "3\n",
      "4\n"
     ]
    }
   ],
   "source": [
    "array = [2 ,2, 3, 4]\n",
    "for i, val in enumerate(array):\n",
    "    print(val)"
   ]
  },
  {
   "cell_type": "code",
   "execution_count": null,
   "metadata": {},
   "outputs": [],
   "source": [
    "from typing import List\n",
    "from math import inf\n",
    "class Solution:\n",
    "    def findRestaurant(self, list1: List[str], list2: List[str]) -> List[str]:\n",
    "        table = {}\n",
    "        indexsum = inf\n",
    "        for i, val in enumerate(list1):\n",
    "            table[val] = table.get(val, 0) + i\n",
    "        for i, val in enumerate(list2):\n",
    "            # 如果存在相同的餐厅，才统计\n",
    "            if val in table:\n",
    "                # 先统计索引和\n",
    "                j = table[val]\n",
    "                temp = j + i\n",
    "                if temp < indexsum:\n",
    "                    # 先清空结果列表\n",
    "                    res = [val]\n",
    "                    # 更新最小的indexsum\n",
    "                    indexsum = temp\n",
    "                elif temp == indexsum:\n",
    "                    res.append(val)\n",
    "        return res\n",
    "                    "
   ]
  }
 ],
 "metadata": {
  "kernelspec": {
   "display_name": "DL",
   "language": "python",
   "name": "python3"
  },
  "language_info": {
   "codemirror_mode": {
    "name": "ipython",
    "version": 3
   },
   "file_extension": ".py",
   "mimetype": "text/x-python",
   "name": "python",
   "nbconvert_exporter": "python",
   "pygments_lexer": "ipython3",
   "version": "3.8.19"
  }
 },
 "nbformat": 4,
 "nbformat_minor": 2
}
