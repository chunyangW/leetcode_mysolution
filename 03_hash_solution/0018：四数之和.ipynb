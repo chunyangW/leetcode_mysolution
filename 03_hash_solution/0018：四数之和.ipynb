{
 "cells": [
  {
   "cell_type": "code",
   "execution_count": null,
   "metadata": {},
   "outputs": [],
   "source": [
    "class Solution:\n",
    "    def fourSum(self, nums: List[int], target: int) -> List[List[int]]:\n",
    "        nums = sorted(nums)\n",
    "        size = len(nums)\n",
    "        res = []\n",
    "        for first in range(size - 3):\n",
    "            if first > 0 and nums[first] == nums[first - 1]:\n",
    "                continue\n",
    "            # 剪枝\n",
    "            if nums[first] + nums[first + 1] + nums[first + 2] + nums[first + 3] > target:\n",
    "                break # 后面的first 肯定更大\n",
    "            if nums[first] + nums[-1] + nums[-2] + nums[-3] < target:\n",
    "                continue # 该first 肯定没机会了 但是后面不一定\n",
    "            for second in range(first + 1, size -2):\n",
    "                if second > first + 1 and nums[second] == nums[second - 1]:\n",
    "                    continue\n",
    "\n",
    "                l, r = second + 1, size - 1\n",
    "                temp = nums[first] + nums[second]\n",
    "\n",
    "                # 剪枝\n",
    "                if temp + nums[l] + nums[l + 1] > target:\n",
    "                    break   # 该second 所有的都比目标大\n",
    "                if temp + nums[r] + nums[r - 1] < target:\n",
    "                    continue # 只是当前second与first组合不行,换second\n",
    "\n",
    "                # 双指针\n",
    "                while l < r:\n",
    "                    s = temp + nums[l] + nums[r]\n",
    "                    if s > target:\n",
    "                        r -= 1\n",
    "                    elif s < target:\n",
    "                        l += 1\n",
    "                    else:\n",
    "                        res.append([nums[first], nums[second], nums[l], nums[r]])\n",
    "                        # 双指针离开原来的位置 同时去重\n",
    "                        l += 1\n",
    "                        while l < r and nums[l - 1] == nums[l]:\n",
    "                            l += 1\n",
    "                        r -= 1\n",
    "                        while l < r and nums[r + 1] == nums[r]:\n",
    "                            r -= 1\n",
    "        return res\n",
    "        # 我勒个四指针啊\n",
    "    \n",
    "    "
   ]
  },
  {
   "cell_type": "markdown",
   "metadata": {},
   "source": [
    "# 原来哈希也能做\n"
   ]
  },
  {
   "cell_type": "code",
   "execution_count": null,
   "metadata": {},
   "outputs": [],
   "source": [
    "class Solution(object):\n",
    "    def fourSum(self, nums, target):\n",
    "        \"\"\"\n",
    "        :type nums: List[int]\n",
    "        :type target: int\n",
    "        :rtype: List[List[int]]\n",
    "        \"\"\"\n",
    "        # 创建一个字典来存储输入列表中每个数字的频率\n",
    "        freq = {}\n",
    "        for num in nums:\n",
    "            freq[num] = freq.get(num, 0) + 1\n",
    "        \n",
    "        # 创建一个集合来存储最终答案，并遍历4个数字的所有唯一组合\n",
    "        ans = set()\n",
    "        for i in range(len(nums)):\n",
    "            for j in range(i + 1, len(nums)):\n",
    "                for k in range(j + 1, len(nums)):\n",
    "                    val = target - (nums[i] + nums[j] + nums[k])\n",
    "                    if val in freq:\n",
    "                        # 确保没有重复 # 也就是答案中val的数目不能超过原有的链表中val个数,这是避免根本错误——不能复用\n",
    "                        count = (nums[i] == val) + (nums[j] == val) + (nums[k] == val)\n",
    "                        if freq[val] > count:\n",
    "                            ans.add(tuple(sorted([nums[i], nums[j], nums[k], val]))) #set集合会自动去重如果是排序好了的\n",
    "        \n",
    "        return [list(x) for x in ans]"
   ]
  },
  {
   "cell_type": "markdown",
   "metadata": {},
   "source": [
    "## 在Python中，set 是一个无序的不重复元素集合。set 中的元素必须是可哈希的（hashable），这意味着元素需要有一个不变的哈希值。不可变类型（如整数、浮点数、字符串、元组等）是可哈希的，因为它们的哈希值在创建后不会改变\n",
    "- 不可哈希的变量通常是可变类型，比如列表（list）、字典（dict）和集合（set）本身，因为它们可以修改内容，这会导致它们的哈希值发生变化。如果你尝试将这些类型的对象添加到 set 中，Python 会抛出一个 TypeError。"
   ]
  },
  {
   "cell_type": "code",
   "execution_count": null,
   "metadata": {},
   "outputs": [],
   "source": [
    "\n",
    "# 自己写一下\n",
    "class Solution(object):\n",
    "    def fourSum(self, nums, target):\n",
    "        ans = set()\n",
    "        freq = {}\n",
    "        for num in nums:\n",
    "            freq[num] = freq.get(num, 0) + 1 # 这个可以代替defaultdict在没有这个元素的时候自动返回0\n",
    "        \n",
    "        for i in range(len(nums)):\n",
    "            for j in range(i + 1, len(nums)):\n",
    "                for k in range(j + 1, len(nums)):\n",
    "                    val = target - (nums[i] + nums[j] + nums[k])\n",
    "                    if val in freq:\n",
    "                        count = (nums[i] == val) + (nums[j] == val) + (nums[k] == val)\n",
    "                        if freq[val] > count:\n",
    "                            ans.add(tuple(sorted([nums[i], nums[j], nums[k], val])))  # set中list是不可哈希变量\n",
    "                            \n",
    "\n",
    "        return [list(x) for x in ans]"
   ]
  }
 ],
 "metadata": {
  "kernelspec": {
   "display_name": "DL",
   "language": "python",
   "name": "python3"
  },
  "language_info": {
   "name": "python",
   "version": "3.8.19"
  }
 },
 "nbformat": 4,
 "nbformat_minor": 2
}
