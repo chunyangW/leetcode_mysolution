{
 "cells": [
  {
   "cell_type": "markdown",
   "metadata": {},
   "source": [
    "给你一个数组 points ，其中 points[i] = [xi, yi] 表示 X-Y 平面上的一个点。求最多有多少个点在同一条直线上。"
   ]
  },
  {
   "cell_type": "code",
   "execution_count": null,
   "metadata": {},
   "outputs": [],
   "source": [
    "from typing import List\n",
    "\n",
    "class Solution:\n",
    "    def maxPoints(self, points: List[List[int]]) -> int:\n",
    "        # 遍历一个点与其他点，记录每一个点的斜率然后如果斜率相等说明从同一个点出发出现了两个点在同一条直线上了\n",
    "        def slope(a, b):\n",
    "            # 如果是x坐标相等那么就令key = \"x\"\n",
    "            if a[0] == b[0]:\n",
    "                return \"x\"\n",
    "            else:\n",
    "                return ((a[1] - b[1]) / (a[0] - b[0])) # 斜率没有正负，只要在同一直线上那么一定是同一个k，不存在上下\n",
    "        # 使用双循环，同时内循环不再遍历外循环已经遍历过的点因为（a>b 与 b<a是一样的直线，之前肯定判断过最多的点数了）\n",
    "\n",
    "        size = len(points)\n",
    "        if size < 3:\n",
    "            return size\n",
    "        res = 0 # 记录每一次外循环中最多的点数\n",
    "        for i in range(size):\n",
    "            table = {}\n",
    "            temp = 2 # 记录每一次内循环中最多的点数\n",
    "            for j in range(i + 1, size):\n",
    "                s = slope(points[i], points[j])\n",
    "                if s in table:\n",
    "                    table[s] += 1\n",
    "                    temp = max(temp, table[s])\n",
    "                else:\n",
    "                    table[s] = 2\n",
    "            res = max(res, temp)\n",
    "        return res\n"
   ]
  }
 ],
 "metadata": {
  "kernelspec": {
   "display_name": "DL",
   "language": "python",
   "name": "python3"
  },
  "language_info": {
   "name": "python",
   "version": "3.8.19"
  }
 },
 "nbformat": 4,
 "nbformat_minor": 2
}
