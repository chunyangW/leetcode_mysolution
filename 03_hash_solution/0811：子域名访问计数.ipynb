{
 "cells": [
  {
   "cell_type": "markdown",
   "metadata": {},
   "source": [
    "网站域名 \"discuss.leetcode.com\" 由多个子域名组成。顶级域名为 \"com\" ，二级域名为 \"leetcode.com\" ，最低一级为 \"discuss.leetcode.com\" 。当访问域名 \"discuss.leetcode.com\" 时，同时也会隐式访问其父域名 \"leetcode.com\" 以及 \"com\" 。\n",
    "\n",
    "计数配对域名 是遵循 \"rep d1.d2.d3\" 或 \"rep d1.d2\" 格式的一个域名表示，其中 rep 表示访问域名的次数，d1.d2.d3 为域名本身。\n",
    "\n",
    "例如，\"9001 discuss.leetcode.com\" 就是一个 计数配对域名 ，表示 discuss.leetcode.com 被访问了 9001 次。\n",
    "给你一个 计数配对域名 组成的数组 cpdomains ，解析得到输入中每个子域名对应的 计数配对域名 ，并以数组形式返回。可以按 任意顺序 返回答案。"
   ]
  },
  {
   "cell_type": "markdown",
   "metadata": {},
   "source": [
    "\n",
    "\n",
    "这里有几个常用的方法来提取字符串中的数据：\n",
    "\n",
    "### 使用 `split()` 方法\n",
    "\n",
    "如果你知道字符串的结构，你可以使用 `split()` 方法来分割字符串。例如，如果你想分割数字和域名，你可以先按空格分割，然后再进一步分割：\n",
    "\n",
    "```python\n",
    "s = \"9001 discuss.leetcode.com\"\n",
    "parts = s.split()  # 默认按空格分割\n",
    "number = parts[0]\n",
    "domain = parts[1]\n",
    "print(number)  # 输出: 9001\n",
    "print(domain)  # 输出: discuss.leetcode.com\n",
    "```\n",
    "\n",
    "### 使用正则表达式\n",
    "\n",
    "如果你需要更复杂的分割逻辑，可以使用 `re` 模块中的正则表达式：\n",
    "\n",
    "```python\n",
    "import re\n",
    "\n",
    "s = \"9001 discuss.leetcode.com\"\n",
    "match = re.match(r\"(\\d+)\\s+(\\S+)\", s)\n",
    "if match:\n",
    "    number = match.group(1)\n",
    "    domain = match.group(2)\n",
    "    print(number)  # 输出: 9001\n",
    "    print(domain)  # 输出: discuss.leetcode.com\n",
    "```\n",
    "\n",
    "在这个正则表达式中：\n",
    "\n",
    "- `(\\d+)` 匹配一个或多个数字，并将其作为一个分组。\n",
    "- `\\s+` 匹配一个或多个空格。\n",
    "- `(\\S+)` 匹配一个或多个非空格字符，并将其作为另一个分组。\n",
    "\n",
    "### 使用字符串切片（如果适用）\n",
    "\n",
    "如果你的字符串格式非常固定，你也可以使用字符串切片来提取数据：\n",
    "\n",
    "```python\n",
    "s = \"9001 discuss.leetcode.com\"\n",
    "number = s[:4]  # 假设数字总是4位\n",
    "domain = s[4:]  # 剩余的部分是域名\n",
    "print(number)  # 输出: 9001\n",
    "print(domain)  # 输出: discuss.leetcode.com\n",
    "```\n",
    "\n",
    "\n"
   ]
  },
  {
   "cell_type": "code",
   "execution_count": 21,
   "metadata": {},
   "outputs": [
    {
     "name": "stdout",
     "output_type": "stream",
     "text": [
      "5\n",
      "4\n",
      "3\n",
      "2\n",
      "1\n",
      "0\n"
     ]
    }
   ],
   "source": [
    "for i in range(5, -1, -1):\n",
    "    print(i)"
   ]
  },
  {
   "cell_type": "code",
   "execution_count": 29,
   "metadata": {},
   "outputs": [
    {
     "data": {
      "text/plain": [
       "['951 com',\n",
       " '901 mail.com',\n",
       " '900 google.mail.com',\n",
       " '50 yahoo.com',\n",
       " '1 intel.mail.com',\n",
       " '5 org',\n",
       " '5 wiki.org']"
      ]
     },
     "execution_count": 29,
     "metadata": {},
     "output_type": "execute_result"
    }
   ],
   "source": [
    "from typing import List\n",
    "\n",
    "class Solution:\n",
    "    def subdomainVisits(self, cpdomains: List[str]) -> List[str]:\n",
    "        # 使用域名作为键，次数作为值\n",
    "        freq = {}\n",
    "        for domain in cpdomains:\n",
    "            parts = domain.split(\" \")\n",
    "            number = parts[0]\n",
    "            string = parts[1].split(\".\")\n",
    "            temp = \"\"\n",
    "            for i in range(len(string) - 1, -1, - 1):\n",
    "                # 子域名包括了后面的域名, 所以需要从后面往前走\n",
    "                if i == len(string) - 1:\n",
    "                    temp = string[i]\n",
    "                else:\n",
    "                    temp =  string[i] +\".\" +  temp\n",
    "                freq[temp] = freq.get(temp, 0) + int(number)\n",
    "            res = []\n",
    "            for key, value in freq.items():\n",
    "                res.append(str(value) + \" \" +str(key) )\n",
    "\n",
    "        return res\n",
    "test = Solution()              \n",
    "test.subdomainVisits([\"900 google.mail.com\", \"50 yahoo.com\", \"1 intel.mail.com\", \"5 wiki.org\"])"
   ]
  },
  {
   "cell_type": "markdown",
   "metadata": {},
   "source": [
    "小改一下\n"
   ]
  },
  {
   "cell_type": "code",
   "execution_count": 30,
   "metadata": {},
   "outputs": [
    {
     "data": {
      "text/plain": [
       "['900 google.mail.com',\n",
       " '901 mail.com',\n",
       " '951 com',\n",
       " '50 yahoo.com',\n",
       " '1 intel.mail.com',\n",
       " '5 wiki.org',\n",
       " '5 org']"
      ]
     },
     "execution_count": 30,
     "metadata": {},
     "output_type": "execute_result"
    }
   ],
   "source": [
    "from typing import List\n",
    "\n",
    "class Solution:\n",
    "    def subdomainVisits(self, cpdomains: List[str]) -> List[str]:\n",
    "        # 使用域名作为键，次数作为值\n",
    "        freq = {}\n",
    "        for domain in cpdomains:\n",
    "            parts = domain.split(\" \")\n",
    "            number = parts[0]\n",
    "            string = parts[1].split(\".\")\n",
    "            temp = \"\"\n",
    "            for i in range(len(string)):\n",
    "                # 子域名包括了后面的域名\n",
    "                temp = \".\".join(string[i:])\n",
    "                freq[temp] = freq.get(temp, 0) + int(number)\n",
    "            res = []\n",
    "            for key, value in freq.items():\n",
    "                res.append(str(value) + \" \" + key )\n",
    "        return res\n",
    "test = Solution()              \n",
    "test.subdomainVisits([\"900 google.mail.com\", \"50 yahoo.com\", \"1 intel.mail.com\", \"5 wiki.org\"])"
   ]
  }
 ],
 "metadata": {
  "kernelspec": {
   "display_name": "DL",
   "language": "python",
   "name": "python3"
  },
  "language_info": {
   "codemirror_mode": {
    "name": "ipython",
    "version": 3
   },
   "file_extension": ".py",
   "mimetype": "text/x-python",
   "name": "python",
   "nbconvert_exporter": "python",
   "pygments_lexer": "ipython3",
   "version": "3.8.19"
  }
 },
 "nbformat": 4,
 "nbformat_minor": 2
}
