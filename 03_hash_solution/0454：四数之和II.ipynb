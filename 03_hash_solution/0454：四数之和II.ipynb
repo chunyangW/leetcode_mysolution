{
 "cells": [
  {
   "cell_type": "code",
   "execution_count": 2,
   "metadata": {},
   "outputs": [],
   "source": [
    "from collections import defaultdict\n",
    "from typing import List\n",
    "\n",
    "class Solution:\n",
    "    def fourSumCount(self, nums1: List[int], nums2: List[int], nums3: List[int], nums4: List[int]) -> int:\n",
    "        # 拆分为两个两数之和\n",
    "        # dict 在py中就是 map  set 还是set\n",
    "        map1 = defaultdict(int)\n",
    "        map2 = defaultdict(int)\n",
    "        res = 0\n",
    "        n = len(nums1)\n",
    "        for i in range(n):\n",
    "            for j in range(n):\n",
    "                map1[nums1[i] + nums2[j]] += 1\n",
    "        for i in range(n):\n",
    "            for j in range(n):\n",
    "                map2[nums3[i] + nums4[j]] += 1\n",
    "\n",
    "        for key in map1:\n",
    "            if -key in map2:\n",
    "                res += map1[key] * map2[-key]\n",
    "        return res\n"
   ]
  },
  {
   "cell_type": "code",
   "execution_count": null,
   "metadata": {},
   "outputs": [],
   "source": []
  }
 ],
 "metadata": {
  "kernelspec": {
   "display_name": "DL",
   "language": "python",
   "name": "python3"
  },
  "language_info": {
   "codemirror_mode": {
    "name": "ipython",
    "version": 3
   },
   "file_extension": ".py",
   "mimetype": "text/x-python",
   "name": "python",
   "nbconvert_exporter": "python",
   "pygments_lexer": "ipython3",
   "version": "3.8.19"
  }
 },
 "nbformat": 4,
 "nbformat_minor": 2
}
