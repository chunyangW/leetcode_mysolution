{
 "cells": [
  {
   "cell_type": "markdown",
   "metadata": {},
   "source": [
    "给你两个整数数组 nums1 和 nums2 ，请你以数组形式返回两数组的交集。返回结果中每个元素出现的次数，应与元素在两个数组中都出现的次数一致（如果出现次数不一致，则考虑取较小值）。可以不考虑输出结果的顺序"
   ]
  },
  {
   "cell_type": "code",
   "execution_count": 2,
   "metadata": {},
   "outputs": [],
   "source": [
    "# 使用哈希表\n",
    "# 题目的意思就是返回较小次数的相交元素\n",
    "from typing import List\n",
    "class Solution:\n",
    "    def intersect(self, nums1: List[int], nums2: List[int]) -> List[int]:\n",
    "        # 如何获得较小的相同元素次数并呈现在结果中？\n",
    "        # 用两个限制条件，一个限制数组一，一个限制数组二\n",
    "        # 数组二限制条件是元素存在数组一中，同时数组一限制是：数组一元素比数组二多才能添加到结果中\n",
    "        # 两个同时发挥作用就能找到两个相交的最少相同元素\n",
    "        numsDict = {}\n",
    "        res = []\n",
    "        for num in nums1:\n",
    "            if num in numsDict:\n",
    "                numsDict[num] += 1\n",
    "            else:\n",
    "                numsDict[num] = 1\n",
    "        for num in nums2:\n",
    "            if num in numsDict and numsDict[num] > 0:\n",
    "                res.append(num)\n",
    "                numsDict[num] -= 1\n",
    "        return res"
   ]
  },
  {
   "cell_type": "code",
   "execution_count": null,
   "metadata": {},
   "outputs": [],
   "source": []
  }
 ],
 "metadata": {
  "kernelspec": {
   "display_name": "DL",
   "language": "python",
   "name": "python3"
  },
  "language_info": {
   "codemirror_mode": {
    "name": "ipython",
    "version": 3
   },
   "file_extension": ".py",
   "mimetype": "text/x-python",
   "name": "python",
   "nbconvert_exporter": "python",
   "pygments_lexer": "ipython3",
   "version": "3.8.19"
  }
 },
 "nbformat": 4,
 "nbformat_minor": 2
}
