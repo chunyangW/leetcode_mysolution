{
 "cells": [
  {
   "cell_type": "markdown",
   "metadata": {},
   "source": [
    "- ① 求hash到数组中的位置；② 在链表中遍历找key。（用数组模拟链表）\n",
    "- 即使有大量的Key映射到同一个桶，也能通过这种类似链表的方式解决哈希碰撞"
   ]
  },
  {
   "cell_type": "markdown",
   "metadata": {},
   "source": [
    "### 基于拉链法"
   ]
  },
  {
   "cell_type": "code",
   "execution_count": null,
   "metadata": {},
   "outputs": [],
   "source": [
    "class MyHashMap:\n",
    "\n",
    "    def __init__(self):\n",
    "        self.buckets = 1009\n",
    "        self.table = [[] for _ in range(self.buckets)]  # 二维数组，第一个维度用来生成空列表，第二维度\n",
    "        # 所以第一个维度桶相当于哈希表，第二个维度相当于后面挂的链表，只不过这一题将冲突的覆盖了\n",
    "    def hashmap(self, key):\n",
    "        return key % self.buckets   # 获得key在哪个桶中，桶编号为hashkey\n",
    "\n",
    "    def put(self, key: int, value: int) -> None:\n",
    "        hashkey = self.hashmap(key)\n",
    "        \n",
    "        for item in self.table[hashkey]:\n",
    "            if key == item[0]:\n",
    "                item[1] = value\n",
    "                return\n",
    "        self.table[hashkey].append([key, value])\n",
    "        return\n",
    "     \n",
    "\n",
    "    def get(self, key: int) -> int:\n",
    "        hashkey = self.hashmap(key)\n",
    "        for item in self.table[hashkey]:\n",
    "            if key == item[0]:\n",
    "                return item[1]\n",
    "        return -1\n",
    "\n",
    "    def remove(self, key: int) -> None:\n",
    "        hashkey = self.hashmap(key)\n",
    "        for i, item in enumerate(self.table[hashkey]):\n",
    "            if key == item[0]:\n",
    "                self.table[hashkey].pop(i)\n",
    "                return\n",
    "\n",
    "\n",
    "# Your MyHashMap object will be instantiated and called as such:\n",
    "# obj = MyHashMap()\n",
    "# obj.put(key,value)\n",
    "# param_2 = obj.get(key)\n",
    "# obj.remove(key)"
   ]
  },
  {
   "cell_type": "markdown",
   "metadata": {},
   "source": [
    "### 用dict()字典"
   ]
  },
  {
   "cell_type": "code",
   "execution_count": null,
   "metadata": {},
   "outputs": [],
   "source": [
    "class MyHashMap:\n",
    "\n",
    "    def __init__(self):\n",
    "        self.hash_set=dict()\n",
    "\n",
    "    def put(self, key: int, value: int) -> None:\n",
    "        self.hash_set[key] = value\n",
    "        \n",
    "    def get(self, key: int) -> int:\n",
    "        if key in self.hash_set:\n",
    "            return self.hash_set[key]\n",
    "        else:\n",
    "            return -1\n",
    "\n",
    "    def remove(self, key: int) -> None:\n",
    "        if key in self.hash_set:\n",
    "            del self.hash_set[key]\n",
    "\n",
    "# Your MyHashMap object will be instantiated and called as such:\n",
    "# obj = MyHashMap()\n",
    "# obj.put(key,value)\n",
    "# param_2 = obj.get(key)\n",
    "# obj.remove(key)\n"
   ]
  }
 ],
 "metadata": {
  "language_info": {
   "name": "python"
  }
 },
 "nbformat": 4,
 "nbformat_minor": 2
}
