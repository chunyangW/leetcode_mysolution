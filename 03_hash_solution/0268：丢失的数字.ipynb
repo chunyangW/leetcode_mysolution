{
 "cells": [
  {
   "cell_type": "markdown",
   "metadata": {},
   "source": [
    "给定一个包含 [0, n] 中 n 个数的数组 nums ，找出 [0, n] 这个范围内没有出现在数组中的那个数。"
   ]
  },
  {
   "cell_type": "markdown",
   "metadata": {},
   "source": [
    "我勒个直接计算啊：\n",
    "        n = len(nums) + 1\n",
    "        sum1 = sum(range(n))\n",
    "        sum2 = sum(nums)\n",
    "        return(sum1 - sum2)"
   ]
  },
  {
   "cell_type": "markdown",
   "metadata": {},
   "source": [
    "用哈希的集合        \n",
    "        s = set()\n",
    "        for i in range(len(nums)):\n",
    "            s.add(i)\n",
    "        s.add(len(nums))\n",
    "        for num in nums:\n",
    "            s.remove(num)\n",
    "        return list(s)[0]"
   ]
  },
  {
   "cell_type": "code",
   "execution_count": null,
   "metadata": {
    "vscode": {
     "languageId": "plaintext"
    }
   },
   "outputs": [],
   "source": []
  }
 ],
 "metadata": {
  "language_info": {
   "name": "python"
  }
 },
 "nbformat": 4,
 "nbformat_minor": 2
}
