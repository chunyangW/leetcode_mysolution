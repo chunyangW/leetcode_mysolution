{
 "cells": [
  {
   "cell_type": "markdown",
   "metadata": {},
   "source": []
  },
  {
   "cell_type": "code",
   "execution_count": 1,
   "metadata": {},
   "outputs": [
    {
     "data": {
      "text/plain": [
       "False"
      ]
     },
     "execution_count": 1,
     "metadata": {},
     "output_type": "execute_result"
    }
   ],
   "source": [
    "from typing import List\n",
    "class Solution: \n",
    "    def isValidSudoku(self, board: List[List[str]]) -> bool:\n",
    "        # 对于每一行、一列、一块而言，在1-9这个索引处是否有值\n",
    "        row = [[0] * 9 for _ in range(9)]\n",
    "        col = [[0] * 9 for _ in range(9)]\n",
    "        block = [[0] * 9 for _ in range(9)]\n",
    "\n",
    "        for i in range(9):\n",
    "            for j in range(9):\n",
    "                if board[i][j] != '.':\n",
    "\n",
    "                    # 注意这个num其实是索引\n",
    "                    num = int(board[i][j]) - 1\n",
    "\n",
    "                    # 这个b可以算下，其就是就代表里3*3的格子是哪个块\n",
    "                    b = (i // 3) * 3 + j // 3\n",
    "\n",
    "                    # 哈希\n",
    "                    # 证明在此次遍历时这个索引处有值了\n",
    "                    if row[i][num] or col[j][num] or block[b][num]:\n",
    "                        return False\n",
    "                    row[i][num] = col[j][num] = block[b][num] = 1\n",
    "                    \n",
    "        return True\n",
    "\n",
    "\n",
    "            "
   ]
  },
  {
   "cell_type": "code",
   "execution_count": null,
   "metadata": {},
   "outputs": [],
   "source": [
    "class Solution:\n",
    "    def isValidSudoku(self, board: List[List[str]]) -> bool:\n",
    "        n = 9\n",
    "        for i in range(n):\n",
    "            data = board[i]\n",
    "            a = [m for m in data if m != '.']\n",
    "            b = set(a)\n",
    "            if len(a) != len(b):\n",
    "                return False\n",
    "        for j in range(n):\n",
    "            data = [d[j] for d in board]\n",
    "            a = [m for m in data if m != '.']\n",
    "            b = set(a)\n",
    "            if len(a) != len(b):\n",
    "                return False\n",
    "        for k in range(0, n, 3):\n",
    "            for l in range(0, n, 3):\n",
    "                data = [board[k + m][l + n] for m in range(3) for n in range(3)]\n",
    "                a = [m for m in data if m != '.']\n",
    "                b = set(a)\n",
    "                if len(a) != len(b):\n",
    "                    return False\n",
    "        return True"
   ]
  }
 ],
 "metadata": {
  "kernelspec": {
   "display_name": "DL",
   "language": "python",
   "name": "python3"
  },
  "language_info": {
   "codemirror_mode": {
    "name": "ipython",
    "version": 3
   },
   "file_extension": ".py",
   "mimetype": "text/x-python",
   "name": "python",
   "nbconvert_exporter": "python",
   "pygments_lexer": "ipython3",
   "version": "3.8.19"
  }
 },
 "nbformat": 4,
 "nbformat_minor": 2
}
