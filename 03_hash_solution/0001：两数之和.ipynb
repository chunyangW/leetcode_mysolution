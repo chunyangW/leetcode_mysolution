{
 "cells": [
  {
   "cell_type": "code",
   "execution_count": null,
   "metadata": {},
   "outputs": [],
   "source": [
    "from typing import List\n",
    "\n",
    "class Solution:\n",
    "    def twoSum(self, nums: List[int], target: int) -> List[int]:\n",
    "        # 使用哈希表存放数字对应的标签\n",
    "        table = {}\n",
    "        for i, val in enumerate(nums):\n",
    "            if target - val in table:\n",
    "                return [i, table[target - val]]\n",
    "            else:\n",
    "                table[val] = i"
   ]
  },
  {
   "cell_type": "code",
   "execution_count": null,
   "metadata": {},
   "outputs": [],
   "source": [
    "class Solution:\n",
    "    def twoSum(self, nums: List[int], target: int) -> List[int]:\n",
    "        hashtable = {}\n",
    "        for i,num in enumerate(nums):  # enumerate 返回的是一个元组包括索引与值对应的元素 enumerate（iterable,start = 0）  enumerate(枚举的意思) start=0 说明索引是从0开始递增的\n",
    "            if target - num in hashtable:   # 对于dic来说 查询 in 操作是 查询是不是在key 中\n",
    "                return [hashtable[target - num],i]\n",
    "            hashtable[num] = i  # 添加到dic需要用[key]  = vlaue 形式"
   ]
  }
 ],
 "metadata": {
  "kernelspec": {
   "display_name": "DL",
   "language": "python",
   "name": "python3"
  },
  "language_info": {
   "name": "python",
   "version": "3.8.19"
  }
 },
 "nbformat": 4,
 "nbformat_minor": 2
}
