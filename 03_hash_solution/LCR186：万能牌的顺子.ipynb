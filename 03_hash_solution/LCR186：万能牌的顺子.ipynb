{
 "cells": [
  {
   "cell_type": "markdown",
   "metadata": {},
   "source": [
    "展览馆展出来自 13 个朝代的文物，每排展柜展出 5 个文物。某排文物的摆放情况记录于数组 places，其中 places[i] 表示处于第 i 位文物的所属朝代编号。其中，编号为 0 的朝代表示未知朝代。请判断并返回这排文物的所属朝代编号是否能够视为连续的五个朝代（如遇未知朝代可算作连续情况）"
   ]
  },
  {
   "cell_type": "code",
   "execution_count": 4,
   "metadata": {},
   "outputs": [
    {
     "data": {
      "text/plain": [
       "True"
      ]
     },
     "execution_count": 4,
     "metadata": {},
     "output_type": "execute_result"
    }
   ],
   "source": [
    "from typing import List\n",
    "\n",
    "class Solution:\n",
    "    def checkDynasty(self, places: List[int]) -> bool:\n",
    "        # 用数组做哈希表\n",
    "        table = [0] * 14\n",
    "        for num in places:\n",
    "            table[num] += 1\n",
    "\n",
    "        # 然后移动，如果窗口中0的数目小于等于table[0]返回true\n",
    "        cnt = table[0]\n",
    "        count = 0\n",
    "        for right in range(1, 14):\n",
    "            if table[right] == 0:\n",
    "                count += 1\n",
    "            if right >= 6:\n",
    "                if table[right - 5] == 0:\n",
    "                    count -= 1\n",
    "                if count <= cnt:\n",
    "                    return True\n",
    "        return False\n",
    "        \n",
    "test = Solution()\n",
    "test.checkDynasty([0,6,9,0,7])"
   ]
  }
 ],
 "metadata": {
  "kernelspec": {
   "display_name": "DL",
   "language": "python",
   "name": "python3"
  },
  "language_info": {
   "codemirror_mode": {
    "name": "ipython",
    "version": 3
   },
   "file_extension": ".py",
   "mimetype": "text/x-python",
   "name": "python",
   "nbconvert_exporter": "python",
   "pygments_lexer": "ipython3",
   "version": "3.8.19"
  }
 },
 "nbformat": 4,
 "nbformat_minor": 2
}
