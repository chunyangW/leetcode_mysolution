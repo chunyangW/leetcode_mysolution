{
 "cells": [
  {
   "cell_type": "markdown",
   "metadata": {},
   "source": [
    "给定两个字符串 s 和 t ，编写一个函数来判断 t 是否是 s 的 \n",
    "字母异位词\n",
    "。"
   ]
  },
  {
   "cell_type": "code",
   "execution_count": 1,
   "metadata": {},
   "outputs": [],
   "source": [
    "from collections import defaultdict\n",
    "\n",
    "# 初始化的defaultdict如果没有这个key，自动返回value = 0 \n",
    "# 初始化需要defaultdict(int)\n",
    "class Solution:\n",
    "    def isAnagram(self, s: str, t: str) -> bool:\n",
    "        table = defaultdict(int)\n",
    "        for item in s:\n",
    "                table[item] += 1\n",
    "\n",
    "        for item in t:\n",
    "            if item in table: \n",
    "                table[item] -= 1\n",
    "            else:\n",
    "                return False\n",
    "\n",
    "        for item in table:\n",
    "            if table[item] != 0:\n",
    "                return False\n",
    "        return True\n"
   ]
  },
  {
   "cell_type": "markdown",
   "metadata": {},
   "source": [
    "## 拓展\n",
    "\n",
    "那有同学可能问了，遇到哈希问题我直接都用set不就得了，用什么数组啊。\n",
    "\n",
    "直接使用set 不仅占用空间比数组大，而且速度要比数组慢，set把数值映射到key上都要做hash计算的。\n",
    "\n",
    "不要小瞧 这个耗时，在数据量大的情况，差距是很明显的。\n",
    "\n",
    "- 数组是线性映射的，需要知道key的范围才能划分数组的大小\n"
   ]
  },
  {
   "cell_type": "markdown",
   "metadata": {},
   "source": []
  }
 ],
 "metadata": {
  "kernelspec": {
   "display_name": "DL",
   "language": "python",
   "name": "python3"
  },
  "language_info": {
   "codemirror_mode": {
    "name": "ipython",
    "version": 3
   },
   "file_extension": ".py",
   "mimetype": "text/x-python",
   "name": "python",
   "nbconvert_exporter": "python",
   "pygments_lexer": "ipython3",
   "version": "3.8.19"
  }
 },
 "nbformat": 4,
 "nbformat_minor": 2
}
