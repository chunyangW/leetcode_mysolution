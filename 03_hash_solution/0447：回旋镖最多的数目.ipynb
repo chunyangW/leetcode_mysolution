{
 "cells": [
  {
   "cell_type": "markdown",
   "metadata": {},
   "source": [
    "给定平面上 n 对 互不相同 的点 points ，其中 points[i] = [xi, yi] 。回旋镖 是由点 (i, j, k) 表示的元组 ，其中 i 和 j 之间的欧式距离和 i 和 k 之间的欧式距离相等（需要考虑元组的顺序）。\n",
    "\n",
    "返回平面上所有回旋镖的数量。\n"
   ]
  },
  {
   "cell_type": "code",
   "execution_count": null,
   "metadata": {},
   "outputs": [],
   "source": [
    "from typing import List\n",
    "class Solution:\n",
    "    def numberOfBoomerangs(self, points: List[List[int]]) -> int:\n",
    "        def distance(p1, p2)-> float:\n",
    "            return ((p1[0] - p2[0])**2 + (p1[1] - p2[1])**2) ** 0.5\n",
    "        if len(points) < 3:\n",
    "            return 0\n",
    "        # 循环遍历每一个点，记录每一个其他点到当前点的距离（dict），如果有重复距离那么就res+2\n",
    "        res = 0\n",
    "        for i in points:\n",
    "            table = {}\n",
    "            for j in points:\n",
    "                d = distance(i, j)\n",
    "                if d not in table:\n",
    "                    table[d] = 1\n",
    "                else:\n",
    "                    # 这里要小心的是会出现不只有两个距离相同的点，会出现三个以上，两个后面的都能与前面的相连\n",
    "                    res += 2 * table[d]\n",
    "                    table[d] += 1\n",
    "        return res"
   ]
  }
 ],
 "metadata": {
  "kernelspec": {
   "display_name": "DL",
   "language": "python",
   "name": "python3"
  },
  "language_info": {
   "name": "python",
   "version": "3.8.19"
  }
 },
 "nbformat": 4,
 "nbformat_minor": 2
}
