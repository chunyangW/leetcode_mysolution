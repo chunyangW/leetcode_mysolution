{
 "cells": [
  {
   "cell_type": "code",
   "execution_count": 13,
   "metadata": {},
   "outputs": [
    {
     "data": {
      "text/plain": [
       "[[-1, 0, 1], [-1, -1, 2]]"
      ]
     },
     "execution_count": 13,
     "metadata": {},
     "output_type": "execute_result"
    }
   ],
   "source": [
    "# 太复杂了原来的指针\n",
    "# 使用刚刚的两数之和思路 target = target - nums[i]\n",
    "from typing import List\n",
    "\n",
    "# 使用哈希表存放元素的下标\n",
    "class Solution:\n",
    "    def threeSum(self, nums: List[int]) -> List[List[int]]:\n",
    "        res = []\n",
    "        nums = sorted(nums)\n",
    "        table = {}\n",
    "        for i in range(len(nums)):\n",
    "            for j in range(i + 1, len(nums)):\n",
    "                target = 0 - nums[i] - nums[j]\n",
    "                if target in table and [nums[i], target, nums[j]] not in res:\n",
    "                    res.append([nums[i], target, nums[j]])\n",
    "                else:\n",
    "                    table[nums[j]] = j\n",
    "            table = {}\n",
    "        return res\n",
    "\n",
    "\n",
    "test = Solution()\n",
    "test.threeSum([-1,0,1,2,-1,-4])\n"
   ]
  },
  {
   "cell_type": "code",
   "execution_count": null,
   "metadata": {},
   "outputs": [],
   "source": [
    "# 对撞双指针，相加太大，右移动，相加太小，左移动\n",
    "class Solution:\n",
    "    def threeSum(self, nums: List[int]) -> List[List[int]]:\n",
    "        \n",
    "        n=len(nums)\n",
    "        res=[]\n",
    "        if(not nums or n<3):\n",
    "            return []\n",
    "        nums.sort()\n",
    "        res=[]\n",
    "        for i in range(n):\n",
    "            if(nums[i]>0):\n",
    "                return res\n",
    "            if(i>0 and nums[i]==nums[i-1]):\n",
    "                continue\n",
    "            L=i+1\n",
    "            R=n-1\n",
    "            while(L<R):\n",
    "                if(nums[i]+nums[L]+nums[R]==0):\n",
    "                    res.append([nums[i],nums[L],nums[R]])\n",
    "                    while(L<R and nums[L]==nums[L+1]):\n",
    "                        L=L+1\n",
    "                    while(L<R and nums[R]==nums[R-1]):\n",
    "                        R=R-1\n",
    "                    L=L+1\n",
    "                    R=R-1\n",
    "                elif(nums[i]+nums[L]+nums[R]>0):\n",
    "                    R=R-1\n",
    "                else:\n",
    "                    L=L+1\n",
    "        return res\n",
    "\n"
   ]
  }
 ],
 "metadata": {
  "kernelspec": {
   "display_name": "DL",
   "language": "python",
   "name": "python3"
  },
  "language_info": {
   "codemirror_mode": {
    "name": "ipython",
    "version": 3
   },
   "file_extension": ".py",
   "mimetype": "text/x-python",
   "name": "python",
   "nbconvert_exporter": "python",
   "pygments_lexer": "ipython3",
   "version": "3.8.19"
  }
 },
 "nbformat": 4,
 "nbformat_minor": 2
}
