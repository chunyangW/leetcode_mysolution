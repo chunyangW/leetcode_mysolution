{
 "cells": [
  {
   "cell_type": "code",
   "execution_count": null,
   "metadata": {},
   "outputs": [],
   "source": [
    "from typing import List\n",
    "\n",
    "class Solution:\n",
    "    def intersection(self, nums1: List[int], nums2: List[int]) -> List[int]:\n",
    "        table1 = {}\n",
    "        for item in nums1:\n",
    "            if item not in  table1:\n",
    "                table1[item] = 1\n",
    "        res = []\n",
    "        for item in nums2:\n",
    "            if item in table1 and item not in res:\n",
    "                res.append(item)\n",
    "        return res\n",
    "\n"
   ]
  },
  {
   "cell_type": "code",
   "execution_count": 3,
   "metadata": {},
   "outputs": [
    {
     "data": {
      "text/plain": [
       "[3]"
      ]
     },
     "execution_count": 3,
     "metadata": {},
     "output_type": "execute_result"
    }
   ],
   "source": [
    "# 也可使用字典的子类：counter\n",
    "from collections import Counter\n",
    "from typing import List\n",
    "\n",
    "class Solution:\n",
    "    def intersection(self, nums1: List[int], nums2: List[int])-> List[int]:\n",
    "        c1 =  Counter(nums1)\n",
    "        c2 =  Counter(nums2)\n",
    "        res = []\n",
    "        for c1.keys in c1:\n",
    "            if c1.keys in c2:\n",
    "                res.append(c1.keys)\n",
    "        return res\n",
    "        \n",
    "test = Solution()\n",
    "test.intersection([1, 2, 3], [3, 4, 5, 3 ,3, 3, 3, 3])\n",
    "            "
   ]
  },
  {
   "cell_type": "code",
   "execution_count": null,
   "metadata": {},
   "outputs": [],
   "source": []
  }
 ],
 "metadata": {
  "kernelspec": {
   "display_name": "DL",
   "language": "python",
   "name": "python3"
  },
  "language_info": {
   "codemirror_mode": {
    "name": "ipython",
    "version": 3
   },
   "file_extension": ".py",
   "mimetype": "text/x-python",
   "name": "python",
   "nbconvert_exporter": "python",
   "pygments_lexer": "ipython3",
   "version": "3.8.19"
  }
 },
 "nbformat": 4,
 "nbformat_minor": 2
}
