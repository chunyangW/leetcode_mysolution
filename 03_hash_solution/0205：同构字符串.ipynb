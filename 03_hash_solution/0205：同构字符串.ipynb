{
 "cells": [
  {
   "cell_type": "markdown",
   "metadata": {},
   "source": [
    "# 双射，在程序中验证就是两个方向的单射（不能一对多）都能通过"
   ]
  },
  {
   "cell_type": "code",
   "execution_count": 1,
   "metadata": {},
   "outputs": [],
   "source": [
    "class Solution:\n",
    "    def isIsomorphic(self, s: str, t: str) -> bool:\n",
    "        # 遍历一遍加入字典，如果在字典中出现过，但是value对不上就returnfalse\n",
    "        # 题目中的是双射所以两个方向映射就能验证是不是双射（一个方向验证一个单射（不能一对多））\n",
    "\n",
    "        if len(set(s)) != len(set(t)):\n",
    "            return False\n",
    "        table = {}\n",
    "\n",
    "        for i in range(len(s)):\n",
    "            if s[i] in table and table[s[i]] != t[i]:\n",
    "                return False\n",
    "            else:\n",
    "                table[s[i]] = t[i]\n",
    "        table = {}\n",
    "\n",
    "        for i in range(len(s)):\n",
    "            if t[i] in table and table[t[i]] != s[i]:\n",
    "                return False\n",
    "            else:\n",
    "                table[t[i]] = s[i]\n",
    "        return True\n",
    "                "
   ]
  }
 ],
 "metadata": {
  "kernelspec": {
   "display_name": "DL",
   "language": "python",
   "name": "python3"
  },
  "language_info": {
   "codemirror_mode": {
    "name": "ipython",
    "version": 3
   },
   "file_extension": ".py",
   "mimetype": "text/x-python",
   "name": "python",
   "nbconvert_exporter": "python",
   "pygments_lexer": "ipython3",
   "version": "3.8.19"
  }
 },
 "nbformat": 4,
 "nbformat_minor": 2
}
