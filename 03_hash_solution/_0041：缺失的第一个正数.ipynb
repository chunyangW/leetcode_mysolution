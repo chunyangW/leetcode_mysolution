{
 "cells": [
  {
   "cell_type": "markdown",
   "metadata": {},
   "source": [
    "41. 缺失的第一个正数\n",
    "困难\n",
    "\n",
    "给你一个未排序的整数数组 nums ，请你找出其中没有出现的最小的正整数。\n",
    "\n",
    "请你实现时间复杂度为 O(n) 并且只使用常数级别额外空间的解决方案。\n"
   ]
  },
  {
   "cell_type": "code",
   "execution_count": null,
   "metadata": {},
   "outputs": [],
   "source": [
    "class Solution:\n",
    "    def firstMissingPositive(self, nums: List[int]) -> int:\n",
    "# 我们可以将当前数组视为哈希表。一个长度为 `n` 的数组，对应存储的元素值应该为 `[1, n + 1]` 之间，其中还包含一个缺失的元素。\n",
    "\n",
    "# 1. 我们可以遍历一遍数组，将当前元素放到其对应位置上（比如元素值为 `1` 的元素放到数组第 `0` 个位置上、元素值为 `2` 的元素放到数组第 `1` 个位置上，等等）。\n",
    "# 2. 然后再次遍历一遍数组。遇到第一个元素值不等于下标 + 1 的元素，就是答案要求的缺失的第一个正数。\n",
    "# 3. 如果遍历完没有在数组中找到缺失的第一个正数，则缺失的第一个正数是 `n + 1`。\n",
    "# 4. 最后返回我们找到的缺失的第一个正数。\n",
    "# 注意在移动的过程中只要保证在nums[i - 1]的位置上正确放置了i就好了\n",
    "        size = len(nums)\n",
    "        for i in range(size):\n",
    "            # while 循环是因为外循环是不断往前走的，下面的交换可能直接将后面的未正确摆放的元素放到i上了需要不断放置\n",
    "            while 0 < nums[i] <= size and nums[i] != nums[nums[i] - 1]:  # 后面一个条件是防止死循环 \n",
    "                    index1 = i \n",
    "                    index2 = nums[i] - 1\n",
    "                    nums[index1], nums[index2] = nums[index2], nums[index1]\n",
    "\n",
    "        for i in range(size):\n",
    "            if nums[i] != i + 1:\n",
    "                return i + 1\n",
    "\n",
    "        return size + 1\n"
   ]
  }
 ],
 "metadata": {
  "kernelspec": {
   "display_name": "DL",
   "language": "python",
   "name": "python3"
  },
  "language_info": {
   "name": "python",
   "version": "3.8.19"
  }
 },
 "nbformat": 4,
 "nbformat_minor": 2
}
