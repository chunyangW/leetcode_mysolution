{
 "cells": [
  {
   "cell_type": "markdown",
   "metadata": {},
   "source": [
    "给你一个整数数组 nums 和两个整数 indexDiff 和 valueDiff 。\n",
    "\n",
    "找出满足下述条件的下标对 (i, j)：\n",
    "\n",
    "i != j,\n",
    "abs(i - j) <= indexDiff\n",
    "abs(nums[i] - nums[j]) <= valueDiff\n",
    "如果存在，返回 true ；否则，返回 false 。\n",
    "\n"
   ]
  },
  {
   "cell_type": "code",
   "execution_count": 5,
   "metadata": {},
   "outputs": [
    {
     "data": {
      "text/plain": [
       "True"
      ]
     },
     "execution_count": 5,
     "metadata": {},
     "output_type": "execute_result"
    }
   ],
   "source": [
    "# 使用桶也就是链地址法，同一个hashkey对应的所有key都在valueDiff范围之中\n",
    "# 由于一些边界问题, 当key为valueDiff 的相邻的整数倍时，如果整除valueDiff会被分到相邻桶，所以需要valueDiff + 1，然后比较左右两个相邻桶，毕竟只有本身桶会有丢失\n",
    "from typing import List\n",
    "\n",
    "class Solution:\n",
    "    def containsNearbyAlmostDuplicate(self, nums: List[int], indexDiff: int, valueDiff: int) -> bool:\n",
    "        buckte = {}\n",
    "        for i, val in enumerate(nums):\n",
    "            index = val // (valueDiff + 1)\n",
    "            if index in buckte : # 如果本身就有元素了那么直接返回正确 不能判断键对应的值，而是直接判断键在不在\n",
    "                return True\n",
    "            # 添加元素\n",
    "            else:\n",
    "                buckte[index] = val\n",
    "            # 比较左右桶\n",
    "            if index - 1 in buckte and (val - buckte[index - 1]) <= valueDiff:\n",
    "                return True\n",
    "            if index + 1 in buckte and (buckte[index + 1] - val) <= valueDiff:\n",
    "                return True\n",
    "            # 删除索引较小的桶，当索引已经超过了indexDiff了\n",
    "            if i >= indexDiff:  # 带等与是因为下一个循环中 最大差距 == indexDiff 已经是变成 indexDiff + 1\n",
    "                buckte.pop(nums[i - indexDiff] // (valueDiff + 1))\n",
    "        return False\n",
    "\n",
    "a = Solution()\n",
    "a.containsNearbyAlmostDuplicate([1, 2, 3, 1], 3, 0)"
   ]
  },
  {
   "cell_type": "code",
   "execution_count": null,
   "metadata": {},
   "outputs": [],
   "source": []
  }
 ],
 "metadata": {
  "kernelspec": {
   "display_name": "DL",
   "language": "python",
   "name": "python3"
  },
  "language_info": {
   "codemirror_mode": {
    "name": "ipython",
    "version": 3
   },
   "file_extension": ".py",
   "mimetype": "text/x-python",
   "name": "python",
   "nbconvert_exporter": "python",
   "pygments_lexer": "ipython3",
   "version": "3.8.19"
  }
 },
 "nbformat": 4,
 "nbformat_minor": 2
}
