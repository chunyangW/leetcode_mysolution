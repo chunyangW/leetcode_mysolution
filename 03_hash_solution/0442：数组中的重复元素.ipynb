{
 "cells": [
  {
   "cell_type": "markdown",
   "metadata": {},
   "source": [
    "给你一个长度为 n 的整数数组 nums ，其中 nums 的所有整数都在范围 [1, n] 内，且每个整数出现 一次 或 两次 。请你找出所有出现 两次 的整数，并以数组形式返回。\n",
    "\n",
    "你必须设计并实现一个时间复杂度为 O(n) 且仅使用常量额外空间（不包括存储输出所需的空间）的算法解决此问题。"
   ]
  },
  {
   "cell_type": "code",
   "execution_count": 4,
   "metadata": {},
   "outputs": [
    {
     "data": {
      "text/plain": [
       "[3, 2]"
      ]
     },
     "execution_count": 4,
     "metadata": {},
     "output_type": "execute_result"
    }
   ],
   "source": [
    "from typing import List\n",
    "class Solution:\n",
    "    def findDuplicates(self, nums: List[int]) -> List[int]:\n",
    "        # 遍历同时将元素放到它该去的位置，如果该位置已经有了同样的元素，那么添加到结果数组\n",
    "        ans = []\n",
    "        for i in range(len(nums)):\n",
    "            while nums[i] != i + 1: # 不能原地重复，也不能两个重复的元素死循环交换\n",
    "                index1 = i \n",
    "                index2 = nums[i] - 1\n",
    "                nums[index1], nums[index2] = nums[index2], nums[index1]\n",
    "                if nums[index2] == nums[i] :\n",
    "                    if nums[i] not in ans:\n",
    "                        ans.append(nums[i])\n",
    "                    break\n",
    "        return ans\n",
    "                \n",
    "test = Solution()\n",
    "test.findDuplicates([4,3,2,7,8,2,3,1])"
   ]
  },
  {
   "cell_type": "markdown",
   "metadata": {},
   "source": [
    "## 我累个忘记集合了。。。"
   ]
  },
  {
   "cell_type": "code",
   "execution_count": 5,
   "metadata": {},
   "outputs": [
    {
     "data": {
      "text/plain": [
       "[2, 3]"
      ]
     },
     "execution_count": 5,
     "metadata": {},
     "output_type": "execute_result"
    }
   ],
   "source": [
    "from typing import List\n",
    "class Solution:\n",
    "    def findDuplicates(self, nums: List[int]) -> List[int]:\n",
    "        seen = set()\n",
    "        ans = []\n",
    "        for num in nums:\n",
    "            if num not in seen:\n",
    "                seen.add(num)\n",
    "            else:\n",
    "                ans.append(num)\n",
    "        return ans\n",
    "\n",
    "test = Solution()\n",
    "test.findDuplicates([4,3,2,7,8,2,3,1])"
   ]
  }
 ],
 "metadata": {
  "kernelspec": {
   "display_name": "DL",
   "language": "python",
   "name": "python3"
  },
  "language_info": {
   "codemirror_mode": {
    "name": "ipython",
    "version": 3
   },
   "file_extension": ".py",
   "mimetype": "text/x-python",
   "name": "python",
   "nbconvert_exporter": "python",
   "pygments_lexer": "ipython3",
   "version": "3.8.19"
  }
 },
 "nbformat": 4,
 "nbformat_minor": 2
}
