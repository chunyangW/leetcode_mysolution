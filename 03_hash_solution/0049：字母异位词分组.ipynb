{
 "cells": [
  {
   "cell_type": "markdown",
   "metadata": {},
   "source": [
    "给你一个字符串数组，请你将 字母异位词 组合在一起。可以按任意顺序返回结果列表。\n",
    "\n",
    "字母异位词 是由重新排列源单词的所有字母得到的一个新单词。"
   ]
  },
  {
   "cell_type": "code",
   "execution_count": 6,
   "metadata": {},
   "outputs": [
    {
     "data": {
      "text/plain": [
       "[['eat', 'tea', 'ate'], ['tan', 'nat'], ['bat']]"
      ]
     },
     "execution_count": 6,
     "metadata": {},
     "output_type": "execute_result"
    }
   ],
   "source": [
    "from typing import List\n",
    "class Solution:\n",
    "    def groupAnagrams(self, strs: List[str]) -> List[List[str]]:\n",
    "        def verify(table: List[dict], d: dict)-> int:\n",
    "            for i, dic in enumerate(table):\n",
    "                if d == dic:\n",
    "                    return i\n",
    "\n",
    "        size = len(strs)\n",
    "        if size <= 1:\n",
    "            return [strs]\n",
    "        table = []\n",
    "        # 一遍遍历得到字典数目\n",
    "        cnt = 0 # 字典数目\n",
    "        for s in strs:\n",
    "            temp = {}\n",
    "            for c in s:\n",
    "                temp[c] = temp.get(c, 0) + 1\n",
    "            if temp not in table:\n",
    "                table.append(temp)\n",
    "                cnt += 1\n",
    "        res = [[] for i in range(cnt)]\n",
    "        for s in strs:\n",
    "            temp = {}\n",
    "            for c in s:\n",
    "                temp[c] = temp.get(c, 0) + 1\n",
    "            res[verify(table, temp)].append(s)\n",
    "        return res\n",
    "                \n",
    "\n",
    "\n",
    "\n",
    "test = Solution()\n",
    "test.groupAnagrams([\"eat\",\"tea\",\"tan\",\"ate\",\"nat\",\"bat\"])"
   ]
  },
  {
   "cell_type": "code",
   "execution_count": 9,
   "metadata": {},
   "outputs": [
    {
     "data": {
      "text/plain": [
       "(['a', 'b', 'c'], 'abc')"
      ]
     },
     "execution_count": 9,
     "metadata": {},
     "output_type": "execute_result"
    }
   ],
   "source": [
    "str = \"cba\"\n",
    "s = sorted(str)\n",
    "s, \"\".join(s)"
   ]
  },
  {
   "cell_type": "code",
   "execution_count": 17,
   "metadata": {},
   "outputs": [
    {
     "data": {
      "text/plain": [
       "[['eat', 'tea', 'ate'], ['tan', 'nat'], ['bat']]"
      ]
     },
     "execution_count": 17,
     "metadata": {},
     "output_type": "execute_result"
    }
   ],
   "source": [
    "# 高手\n",
    "from typing import List\n",
    "\n",
    "class Solution:\n",
    "    def groupAnagrams(self, strs: List[str]) -> List[List[str]]:\n",
    "        # 字典中用排序好的字符串当作key\n",
    "        strs_map = {}\n",
    "        for str in strs:\n",
    "            # \"\".join(iterable) 可以将可迭代元素用前面的间隔符号连接起来\n",
    "            sorted_str = ''.join(sorted(str))\n",
    "            if sorted_str not in strs_map:\n",
    "                # 字典中的值可以是列表以便后面添加想要的元素\n",
    "                strs_map[sorted_str] = []\n",
    "\n",
    "            strs_map[sorted_str].append(str)\n",
    "        return list(strs_map.values())\n",
    "    \n",
    "test = Solution()\n",
    "test.groupAnagrams([\"eat\",\"tea\",\"tan\",\"ate\",\"nat\",\"bat\"])"
   ]
  }
 ],
 "metadata": {
  "kernelspec": {
   "display_name": "DL",
   "language": "python",
   "name": "python3"
  },
  "language_info": {
   "codemirror_mode": {
    "name": "ipython",
    "version": 3
   },
   "file_extension": ".py",
   "mimetype": "text/x-python",
   "name": "python",
   "nbconvert_exporter": "python",
   "pygments_lexer": "ipython3",
   "version": "3.8.19"
  }
 },
 "nbformat": 4,
 "nbformat_minor": 2
}
