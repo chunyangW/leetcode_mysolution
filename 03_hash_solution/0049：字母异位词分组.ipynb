{
 "cells": [
  {
   "cell_type": "markdown",
   "metadata": {},
   "source": [
    "给你一个字符串数组，请你将 字母异位词 组合在一起。可以按任意顺序返回结果列表。\n",
    "\n",
    "字母异位词 是由重新排列源单词的所有字母得到的一个新单词。"
   ]
  },
  {
   "cell_type": "code",
   "execution_count": 6,
   "metadata": {},
   "outputs": [
    {
     "data": {
      "text/plain": [
       "[['eat', 'tea', 'ate'], ['tan', 'nat'], ['bat']]"
      ]
     },
     "execution_count": 6,
     "metadata": {},
     "output_type": "execute_result"
    }
   ],
   "source": [
    "from typing import List\n",
    "class Solution:\n",
    "    def groupAnagrams(self, strs: List[str]) -> List[List[str]]:\n",
    "        def verify(table: List[dict], d: dict)-> int:\n",
    "            for i, dic in enumerate(table):\n",
    "                if d == dic:\n",
    "                    return i\n",
    "\n",
    "        size = len(strs)\n",
    "        if size <= 1:\n",
    "            return [strs]\n",
    "        table = []\n",
    "        # 一遍遍历得到字典数目\n",
    "        cnt = 0 # 字典数目\n",
    "        for s in strs:\n",
    "            temp = {}\n",
    "            for c in s:\n",
    "                temp[c] = temp.get(c, 0) + 1\n",
    "            if temp not in table:\n",
    "                table.append(temp)\n",
    "                cnt += 1\n",
    "        res = [[] for i in range(cnt)]\n",
    "        for s in strs:\n",
    "            temp = {}\n",
    "            for c in s:\n",
    "                temp[c] = temp.get(c, 0) + 1\n",
    "            res[verify(table, temp)].append(s)\n",
    "        return res\n",
    "                \n",
    "\n",
    "\n",
    "\n",
    "test = Solution()\n",
    "test.groupAnagrams([\"eat\",\"tea\",\"tan\",\"ate\",\"nat\",\"bat\"])"
   ]
  }
 ],
 "metadata": {
  "kernelspec": {
   "display_name": "DL",
   "language": "python",
   "name": "python3"
  },
  "language_info": {
   "codemirror_mode": {
    "name": "ipython",
    "version": 3
   },
   "file_extension": ".py",
   "mimetype": "text/x-python",
   "name": "python",
   "nbconvert_exporter": "python",
   "pygments_lexer": "ipython3",
   "version": "3.8.19"
  }
 },
 "nbformat": 4,
 "nbformat_minor": 2
}
