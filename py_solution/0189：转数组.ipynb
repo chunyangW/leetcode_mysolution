{
 "cells": [
  {
   "cell_type": "markdown",
   "metadata": {},
   "source": [
    "给定一个整数数组 nums，将数组中的元素向右轮转 k 个位置，其中 k 是非负数。\n",
    "\n",
    " \n",
    "\n",
    "示例 1:\n",
    "\n",
    "输入: nums = [1,2,3,4,5,6,7], k = 3\n",
    "输出: [5,6,7,1,2,3,4]\n",
    "解释:\n",
    "向右轮转 1 步: [7,1,2,3,4,5,6]\n",
    "向右轮转 2 步: [6,7,1,2,3,4,5]\n",
    "向右轮转 3 步: [5,6,7,1,2,3,4]\n",
    "\n",
    "\n",
    "示例 2:\n",
    "\n",
    "输入：nums = [-1,-100,3,99], k = 2\n",
    "输出：[3,99,-1,-100]\n",
    "解释: \n",
    "向右轮转 1 步: [99,-1,-100,3]\n",
    "向右轮转 2 步: [3,99,-1,-100]\n",
    " \n",
    "\n",
    "提示：\n",
    "\n",
    "1 <= nums.length <= 105\n",
    "-231 <= nums[i] <= 231 - 1\n",
    "0 <= k <= 105\n",
    " \n",
    "\n",
    "进阶：\n",
    "\n",
    "尽可能想出更多的解决方案，至少有 三种 不同的方法可以解决这个问题。\n",
    "你可以使用空间复杂度为 O(1) 的 原地 算法解决这个问题吗？"
   ]
  },
  {
   "cell_type": "code",
   "execution_count": 14,
   "metadata": {},
   "outputs": [
    {
     "name": "stdout",
     "output_type": "stream",
     "text": [
      "[1, 2, 3, [1, 2]]\n"
     ]
    }
   ],
   "source": [
    "from typing import List\n",
    "\n",
    "nums = [1,2,3,4,5]\n",
    "k = 2\n",
    "class Solution:\n",
    "    def rotate(self, nums: List[int], k: int) -> None:\n",
    "        temp = nums[:k]\n",
    "        for i in range(k):\n",
    "            nums.pop()\n",
    "        nums.append(temp)\n",
    "\n",
    "t = Solution()\n",
    "t.rotate(nums,k)\n",
    "print(nums)"
   ]
  },
  {
   "cell_type": "code",
   "execution_count": 33,
   "metadata": {},
   "outputs": [
    {
     "name": "stdout",
     "output_type": "stream",
     "text": [
      "[3, 4, 5, 1, 2]\n"
     ]
    }
   ],
   "source": [
    "from typing import List\n",
    "\n",
    "nums = [1,2,3,4,5]\n",
    "k = 8\n",
    "class Solution:\n",
    "    def rotate(self, nums: List[int], k: int) -> None:\n",
    "        k = k % len(nums)\n",
    "        temp = nums[-k:]\n",
    "        for i in range(k):\n",
    "            nums.pop()    \n",
    "        for m in range(len(temp)):\n",
    "           nums.insert(m,temp[m])\n",
    "\n",
    "t = Solution()\n",
    "t.rotate(nums,k)\n",
    "print(nums)"
   ]
  },
  {
   "cell_type": "markdown",
   "metadata": {},
   "source": [
    "删除数组前面的元素会导致后面的索引发生变化我日\n",
    "\n",
    "\n",
    "append会添加列表中的列表，因为python中的列表是近似数组而不是数组\n",
    "\n",
    "range(k)用于生成k个 0,1,2,,,,k-1\n",
    "\n",
    "insert（i,val）在索引为i 中插入val \n",
    "nums = [1, 2, 3]\n",
    "nums.insert(1, 4)  # 在索引1的位置插入元素4\n",
    "print(nums)  # 输出: [1, 4, 2, 3]\n",
    "\n",
    "\n"
   ]
  },
  {
   "cell_type": "code",
   "execution_count": 9,
   "metadata": {},
   "outputs": [
    {
     "name": "stdout",
     "output_type": "stream",
     "text": [
      "[1, 3, 4]\n",
      "range(0, 2)\n"
     ]
    }
   ],
   "source": [
    "arary = [1,3,4,5,6]\n",
    "print(arary[:3])\n",
    "print(range(0,2))"
   ]
  },
  {
   "cell_type": "code",
   "execution_count": 34,
   "metadata": {},
   "outputs": [
    {
     "name": "stdout",
     "output_type": "stream",
     "text": [
      "[5, 1, 2, 3, 4]\n"
     ]
    }
   ],
   "source": [
    "\n",
    "class Solution:\n",
    "    def rotate(self, nums: List[int], k: int) -> None:\n",
    "        n = len(nums)\n",
    "        k = k % n \n",
    "        if k == 0:\n",
    "            return\n",
    "        nums[:] = nums[-k:] + nums[:-k]  # 0到 倒数第k个\n",
    "\n",
    "\n",
    "nums = [1,2,3,4,5]\n",
    "k = 8\n",
    "\n",
    "\n",
    "t = Solution()\n",
    "t.rotate(nums,k)\n",
    "print(nums)"
   ]
  },
  {
   "cell_type": "code",
   "execution_count": null,
   "metadata": {},
   "outputs": [],
   "source": []
  }
 ],
 "metadata": {
  "kernelspec": {
   "display_name": "DL",
   "language": "python",
   "name": "python3"
  },
  "language_info": {
   "codemirror_mode": {
    "name": "ipython",
    "version": 3
   },
   "file_extension": ".py",
   "mimetype": "text/x-python",
   "name": "python",
   "nbconvert_exporter": "python",
   "pygments_lexer": "ipython3",
   "version": "3.9.19"
  }
 },
 "nbformat": 4,
 "nbformat_minor": 2
}
