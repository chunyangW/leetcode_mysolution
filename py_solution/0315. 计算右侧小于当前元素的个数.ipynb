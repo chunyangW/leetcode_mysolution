{
 "cells": [
  {
   "cell_type": "code",
   "execution_count": 3,
   "metadata": {},
   "outputs": [
    {
     "ename": "TypeError",
     "evalue": "Solution.countSmaller() missing 1 required positional argument: 'nums'",
     "output_type": "error",
     "traceback": [
      "\u001b[1;31m---------------------------------------------------------------------------\u001b[0m",
      "\u001b[1;31mTypeError\u001b[0m                                 Traceback (most recent call last)",
      "Cell \u001b[1;32mIn[3], line 50\u001b[0m\n\u001b[0;32m     48\u001b[0m array \u001b[38;5;241m=\u001b[39m [\u001b[38;5;241m5\u001b[39m,\u001b[38;5;241m2\u001b[39m,\u001b[38;5;241m6\u001b[39m,\u001b[38;5;241m1\u001b[39m]\n\u001b[0;32m     49\u001b[0m a \u001b[38;5;241m=\u001b[39m Solution\n\u001b[1;32m---> 50\u001b[0m \u001b[38;5;28mprint\u001b[39m(\u001b[43ma\u001b[49m\u001b[38;5;241;43m.\u001b[39;49m\u001b[43mcountSmaller\u001b[49m\u001b[43m(\u001b[49m\u001b[43marray\u001b[49m\u001b[43m)\u001b[49m)\n",
      "\u001b[1;31mTypeError\u001b[0m: Solution.countSmaller() missing 1 required positional argument: 'nums'"
     ]
    }
   ],
   "source": [
    "## 从头手搓\n",
    "from typing import List\n",
    "\n",
    "class Solution(object):\n",
    "    def countSmaller(self, nums: List[int]) -> List[int]:\n",
    "        size = len(nums)\n",
    "        res = [0] * size # 最终的结果，通过二维数组的index来找到res对应的地方加上贡献 \n",
    "        nums = [(nums[i], i) for i in range(size)]    # 二维数组        \n",
    "        self.mershsort(nums, 0, size-1, res)\n",
    "        return res\n",
    "    \n",
    "\n",
    "# mesh sort 's main function\n",
    "    def mershsort(self, nums, low, high, res):\n",
    "        if low >= high:   \n",
    "            return nums\n",
    "        \n",
    "        mid = low + (high - low) // 2\n",
    "        self.mershsort(nums, low, mid, res)\n",
    "        self.mershsort(nums, mid + 1, high, res)\n",
    "        return self.mersh(nums, low, mid, high, res) # 全局索引\n",
    "    \n",
    "    def mersh(self, nums, low, mid, high, res):\n",
    "        temp = []         \n",
    "        # 使用全局索引所以本行失效i, j, index = 0, 0, 0\n",
    "        left = low \n",
    "        right = mid + 1\n",
    "        while   left <= mid and right <= high:\n",
    "            if nums[left][0] <= nums[right][0]:\n",
    "                temp.append(nums[left])\n",
    "                res[nums[left][1]] += right - mid - 1 # 对应的原来的index 为 nums[left][1]     i 会发生变换 \n",
    "                left += 1  # 同时也要注意先赋值再加一\n",
    "                            \n",
    "            else:\n",
    "                temp.append(nums[right])\n",
    "                right += 1\n",
    "        while left <= mid:\n",
    "            temp.append(nums[left])\n",
    "            res[nums[left][1]] += right - mid - 1\n",
    "            left += 1\n",
    "        while right <= high:\n",
    "            temp.append(nums[right])\n",
    "            right += 1            \n",
    "\n",
    "        nums[low:high + 1] = temp\n",
    "        return nums\n",
    "\n",
    "array = [5,2,6,1]\n",
    "a = Solution\n",
    "print(a.countSmaller(array))"
   ]
  },
  {
   "cell_type": "code",
   "execution_count": null,
   "metadata": {},
   "outputs": [],
   "source": []
  }
 ],
 "metadata": {
  "kernelspec": {
   "display_name": "Python 3",
   "language": "python",
   "name": "python3"
  },
  "language_info": {
   "codemirror_mode": {
    "name": "ipython",
    "version": 3
   },
   "file_extension": ".py",
   "mimetype": "text/x-python",
   "name": "python",
   "nbconvert_exporter": "python",
   "pygments_lexer": "ipython3",
   "version": "3.10.14"
  }
 },
 "nbformat": 4,
 "nbformat_minor": 2
}
