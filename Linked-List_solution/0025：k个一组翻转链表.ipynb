{
 "cells": [
  {
   "cell_type": "markdown",
   "metadata": {},
   "source": []
  },
  {
   "cell_type": "code",
   "execution_count": 9,
   "metadata": {},
   "outputs": [
    {
     "name": "stdout",
     "output_type": "stream",
     "text": [
      "2->1->1->2->3->2->None\n"
     ]
    }
   ],
   "source": [
    "from typing import Optional\n",
    "\n",
    "class ListNode:\n",
    "    def __init__(self, val=0, next=None):\n",
    "        self.val = val\n",
    "        self.next = next\n",
    "class Solution:\n",
    "    def reverseKGroup(self, head: Optional[ListNode], k: int) -> Optional[ListNode]:\n",
    "        # 先找出链表的长度\n",
    "        size = 0\n",
    "        test = head\n",
    "        while(test != None):\n",
    "            test = test.next\n",
    "            size += 1\n",
    "        # 然后计算一下需要翻转几次\n",
    "        count = size // k\n",
    "        dummy_node = ListNode(0, head)\n",
    "        pre = dummy_node\n",
    "        cur = head\n",
    "        K = k\n",
    "        while(count != 0):\n",
    "            left_node = pre\n",
    "            pre = pre.next\n",
    "            cur = cur.next\n",
    "            while K != 1:  # 具体每个翻转和之前指定翻转范围题目一样需要找到左右节点\n",
    "                temp = cur.next\n",
    "                cur.next = pre\n",
    "                pre = cur\n",
    "                cur = temp\n",
    "                K -= 1\n",
    "            K = k\n",
    "            # 要小心因为是连续变换所以pre的位置跑到前面的翻转后的头部去了所以需要将pre的位置放到正确的地方去\n",
    "            temp = left_node.next\n",
    "            left_node.next.next = cur\n",
    "            left_node.next = pre\n",
    "            pre = temp\n",
    "            count -= 1\n",
    "            \n",
    "            \n",
    "        return dummy_node.next\n",
    "\n",
    "# 创建原始链表\n",
    "array = [1, 2, 2, 1, 2, 3]\n",
    "head = ListNode(array[0])   # 头要单独保存起来\n",
    "cur = head                  # 然后用一个指针来不断生成下一连接\n",
    "for i in range(1, len(array)):\n",
    "    node = ListNode(array[i])\n",
    "    cur.next = node   # 连接\n",
    "    cur = cur.next \n",
    "\n",
    "test = Solution()\n",
    "head = test.reverseKGroup(head, 2)\n",
    "\n",
    "# 显示当前链表\n",
    "cur = head\n",
    "while(cur):\n",
    "    print(cur.val, end = \"->\")\n",
    "    cur = cur.next\n",
    "print(\"None\")"
   ]
  }
 ],
 "metadata": {
  "kernelspec": {
   "display_name": "DL",
   "language": "python",
   "name": "python3"
  },
  "language_info": {
   "codemirror_mode": {
    "name": "ipython",
    "version": 3
   },
   "file_extension": ".py",
   "mimetype": "text/x-python",
   "name": "python",
   "nbconvert_exporter": "python",
   "pygments_lexer": "ipython3",
   "version": "3.8.19"
  }
 },
 "nbformat": 4,
 "nbformat_minor": 2
}
