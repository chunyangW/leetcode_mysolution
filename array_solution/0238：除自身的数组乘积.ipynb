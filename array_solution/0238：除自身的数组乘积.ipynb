{
 "cells": [
  {
   "cell_type": "markdown",
   "metadata": {},
   "source": [
    "示例 1:\n",
    "\n",
    "输入: nums = [1,2,3,4]\n",
    "输出: [24,12,8,6]\n",
    "示例 2:\n",
    "\n",
    "输入: nums = [-1,1,0,-3,3]\n",
    "输出: [0,0,9,0,0]"
   ]
  },
  {
   "cell_type": "code",
   "execution_count": 2,
   "metadata": {},
   "outputs": [
    {
     "ename": "TypeError",
     "evalue": "reduce() of empty sequence with no initial value",
     "output_type": "error",
     "traceback": [
      "\u001b[1;31m---------------------------------------------------------------------------\u001b[0m",
      "\u001b[1;31mTypeError\u001b[0m                                 Traceback (most recent call last)",
      "Cell \u001b[1;32mIn[2], line 20\u001b[0m\n\u001b[0;32m     17\u001b[0m         \u001b[38;5;28;01mreturn\u001b[39;00m res\n\u001b[0;32m     19\u001b[0m a \u001b[38;5;241m=\u001b[39m Solution()\n\u001b[1;32m---> 20\u001b[0m \u001b[43ma\u001b[49m\u001b[38;5;241;43m.\u001b[39;49m\u001b[43mproductExceptSelf\u001b[49m\u001b[43m(\u001b[49m\u001b[43m[\u001b[49m\u001b[38;5;241;43m1\u001b[39;49m\u001b[43m,\u001b[49m\u001b[38;5;241;43m2\u001b[39;49m\u001b[43m,\u001b[49m\u001b[38;5;241;43m3\u001b[39;49m\u001b[43m,\u001b[49m\u001b[38;5;241;43m4\u001b[39;49m\u001b[43m]\u001b[49m\u001b[43m)\u001b[49m\n",
      "Cell \u001b[1;32mIn[2], line 15\u001b[0m, in \u001b[0;36mSolution.productExceptSelf\u001b[1;34m(self, nums)\u001b[0m\n\u001b[0;32m     12\u001b[0m     nums2 \u001b[38;5;241m=\u001b[39m nums[i\u001b[38;5;241m+\u001b[39m\u001b[38;5;241m1\u001b[39m:]\n\u001b[0;32m     14\u001b[0m     res1 \u001b[38;5;241m=\u001b[39m reduce(mul,nums1)\n\u001b[1;32m---> 15\u001b[0m     res2 \u001b[38;5;241m=\u001b[39m \u001b[43mreduce\u001b[49m\u001b[43m(\u001b[49m\u001b[43mmul\u001b[49m\u001b[43m,\u001b[49m\u001b[43mnums2\u001b[49m\u001b[43m)\u001b[49m\n\u001b[0;32m     16\u001b[0m     res\u001b[38;5;241m.\u001b[39mappend(res1\u001b[38;5;241m+\u001b[39mres2)\n\u001b[0;32m     17\u001b[0m \u001b[38;5;28;01mreturn\u001b[39;00m res\n",
      "\u001b[1;31mTypeError\u001b[0m: reduce() of empty sequence with no initial value"
     ]
    }
   ],
   "source": [
    "from functools import reduce\n",
    "from typing import List\n",
    "\n",
    "class Solution:\n",
    "    def productExceptSelf(self, nums: List[int]) -> List[int]:\n",
    "        def mul(x, y):\n",
    "            return x * y\n",
    "        \n",
    "        size = len(nums)\n",
    "        res = []\n",
    "\n",
    "        for i in range(size):\n",
    "            # Create the left and right parts of the array\n",
    "            nums1 = nums[:i]\n",
    "            nums2 = nums[i+1:]\n",
    "            \n",
    "            # Use reduce to get the product of the left and right parts\n",
    "            res1 = reduce(mul, nums1, 1)  # 1 as initial value for empty lists\n",
    "            res2 = reduce(mul, nums2, 1)  # 1 as initial value for empty lists\n",
    "            \n",
    "            # Append the product of the two parts\n",
    "            res.append(res1 * res2)\n",
    "\n",
    "        return res\n",
    "\n",
    "# Example usage\n",
    "a = Solution()\n",
    "print(a.productExceptSelf([1, 2, 3, 4]))  # Output should be [24, 12, 8, 6]\n"
   ]
  },
  {
   "cell_type": "code",
   "execution_count": null,
   "metadata": {},
   "outputs": [],
   "source": [
    "class Solution:\n",
    "    def productExceptSelf(self, nums: List[int]) -> List[int]:\n",
    "        size = len(nums)\n",
    "        res = [1 for _ in range(size)]\n",
    "\n",
    "        left = 1\n",
    "        for i in range(size):\n",
    "            res[i] *= left\n",
    "            left *= nums[i]\n",
    "\n",
    "        right = 1\n",
    "        for i in range(size-1, -1, -1):\n",
    "            res[i] *= right\n",
    "            right *= nums[i]\n",
    "        return res"
   ]
  }
 ],
 "metadata": {
  "kernelspec": {
   "display_name": "DL",
   "language": "python",
   "name": "python3"
  },
  "language_info": {
   "codemirror_mode": {
    "name": "ipython",
    "version": 3
   },
   "file_extension": ".py",
   "mimetype": "text/x-python",
   "name": "python",
   "nbconvert_exporter": "python",
   "pygments_lexer": "ipython3",
   "version": "3.9.19"
  }
 },
 "nbformat": 4,
 "nbformat_minor": 2
}
