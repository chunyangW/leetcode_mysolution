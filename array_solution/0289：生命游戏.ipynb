{
 "cells": [
  {
   "cell_type": "markdown",
   "metadata": {},
   "source": [
    "![alt text](image.png)"
   ]
  },
  {
   "cell_type": "markdown",
   "metadata": {},
   "source": [
    "### 思路\n",
    "- 先初始化 形成一个相同的大小的矩阵\n",
    "- 然后遍历原矩阵，特殊的是边界\n",
    "  - 边界怎么办呢 padding = 0? \n",
    "    - 好思路，\n",
    "    - 原来的矩阵大小就变n+2 * n+2\n",
    "    - 同时对应关系是 行列各加一\n",
    "    - 那么就有从1，1start然后直到n+1,n+1\n",
    "  - 正常的八个怎么统计活细胞\n",
    "    - 活细胞为1 \n",
    "    - 那么就是说相加大于3 -》0\n",
    "    - 相加等于 3 -》1\n",
    "    - 相加等于 2 and 原来是1 -》 1\n",
    "    - 相加小于2 -》0\n",
    "   "
   ]
  },
  {
   "cell_type": "code",
   "execution_count": 9,
   "metadata": {},
   "outputs": [
    {
     "data": {
      "text/plain": [
       "[[0, 0, 0], [1, 0, 1], [0, 1, 1], [0, 1, 0]]"
      ]
     },
     "execution_count": 9,
     "metadata": {},
     "output_type": "execute_result"
    }
   ],
   "source": [
    "from typing import List\n",
    "\n",
    "class Solution:\n",
    "    def gameOfLife(self, board: List[List[int]]) -> None:\n",
    "        rows = len(board)\n",
    "        cols = len(board[0])\n",
    "        # 新建二维矩阵不然会报错\n",
    "        pad_board = [[ _ for _ in range(cols + 2)] for _ in range(rows + 2)]\n",
    "        # 添加padding\n",
    "        for i in range(rows+2):\n",
    "            for j in range(cols+2):\n",
    "                if (i == 0 or j == 0 or i == rows + 1 or j == cols +1):\n",
    "                    pad_board[i][j] = 0\n",
    "                else:\n",
    "                    pad_board[i][j] = board[i-1][j-1]\n",
    "        # 进行判断\n",
    "        for i in range(1,rows+1):\n",
    "            for j in range(1,cols+1):\n",
    "                temp = pad_board[i-1][j-1] + pad_board[i-1][j] + pad_board[i-1][j+1] + pad_board[i][j-1] + pad_board[i][j+1] + pad_board[i+1][j-1] + pad_board[i+1][j] + pad_board[i+1][j+1]\n",
    "                if temp >3:\n",
    "                    board[i-1][j-1] = 0\n",
    "                elif temp == 3:\n",
    "                    board[i-1][j-1] = 1\n",
    "                elif temp == 2 and board[i-1][j-1] == 1:\n",
    "                    board[i-1][j-1] = 1\n",
    "                elif temp < 2:\n",
    "                    board[i-1][j-1] = 0\n",
    "        # 对照padding\n",
    "        return board\n",
    "    \n",
    "a = Solution()\n",
    "a.gameOfLife([[0,1,0],[0,0,1],[1,1,1],[0,0,0]])\n",
    "            "
   ]
  },
  {
   "cell_type": "markdown",
   "metadata": {},
   "source": [
    "举个例子，如果细胞之前的状态是 0，但是在更新之后变成了 1，我们就可以给它定义一个复合状态 2。这样我们看到 2，既能知道目前这个细胞是活的，还能知道它之前是死的。\n",
    "\n"
   ]
  },
  {
   "cell_type": "code",
   "execution_count": 6,
   "metadata": {},
   "outputs": [
    {
     "name": "stdout",
     "output_type": "stream",
     "text": [
      "[[0, 0, 0], [1, 0, 1], [0, 1, 1], [0, 1, 0]]\n"
     ]
    }
   ],
   "source": [
    "import numpy as np\n",
    "from scipy import signal\n",
    "from typing import List\n",
    "\n",
    "class Solution:\n",
    "    def gameOfLife(self, board: List[List[int]]) -> None:\n",
    "        \"\"\"\n",
    "        Do not return anything, modify board in-place instead.\n",
    "        \"\"\"\n",
    "        b = np.array(board)\n",
    "        c = np.array([[1,1,1],[1,0,1],[1,1,1]])  # 卷积核\n",
    "        x = signal.convolve(b, c, mode='same')  # 进行卷积\n",
    "        \n",
    "        # 更新细胞状态\n",
    "        b[(x < 2) | (x > 3)] = 0  # 少于2个活细胞或多于3个活细胞，细胞死亡\n",
    "        b[(x == 3)] = 1  # 恰好3个活细胞，细胞生存\n",
    "        \n",
    "        # 对原来是活细胞但卷积值是2的部分保持不变\n",
    "        b[(x == 2) & (b == 1)] = 1\n",
    "        \n",
    "        # 将 NumPy 数组转换回列表并更新原始板\n",
    "        board[:] = b.tolist()\n",
    "    \n",
    "a = Solution()\n",
    "initial_board = [[0,1,0],[0,0,1],[1,1,1],[0,0,0]]\n",
    "a.gameOfLife(initial_board)\n",
    "print(initial_board)\n"
   ]
  },
  {
   "cell_type": "code",
   "execution_count": 8,
   "metadata": {},
   "outputs": [
    {
     "data": {
      "text/plain": [
       "[[0, 0, 0], [1, 0, 1], [0, 1, 1], [0, 1, 0]]"
      ]
     },
     "execution_count": 8,
     "metadata": {},
     "output_type": "execute_result"
    }
   ],
   "source": [
    "# 不用新建一个padding来解决边界的问题： 引入了复合状态\n",
    "class Solution:\n",
    "    def gameOfLife(self, board: List[List[int]]) -> None:\n",
    "        \"\"\"\n",
    "        Do not return anything, modify board in-place instead.\n",
    "        \"\"\"\n",
    "\n",
    "        neighbors = [(1,0), (1,-1), (0,-1), (-1,-1), (-1,0), (-1,1), (0,1), (1,1)]\n",
    "\n",
    "        rows = len(board)\n",
    "        cols = len(board[0])\n",
    "\n",
    "        # 遍历面板每一个格子里的细胞\n",
    "        for row in range(rows):\n",
    "            for col in range(cols):\n",
    "\n",
    "                # 对于每一个细胞统计其八个相邻位置里的活细胞数量\n",
    "                live_neighbors = 0\n",
    "                for neighbor in neighbors:\n",
    "\n",
    "                    # 相邻位置的坐标\n",
    "                    r = (row + neighbor[0])\n",
    "                    c = (col + neighbor[1])\n",
    "\n",
    "                    # 查看相邻的细胞是否是活细胞\n",
    "                    if (r < rows and r >= 0) and (c < cols and c >= 0) and abs(board[r][c]) == 1:\n",
    "                        live_neighbors += 1\n",
    "\n",
    "                # 规则 1 或规则 3 \n",
    "                if board[row][col] == 1 and (live_neighbors < 2 or live_neighbors > 3):\n",
    "                    # -1 代表这个细胞过去是活的现在死了\n",
    "                    board[row][col] = -1\n",
    "                # 规则 4\n",
    "                if board[row][col] == 0 and live_neighbors == 3:\n",
    "                    # 2 代表这个细胞过去是死的现在活了\n",
    "                    board[row][col] = 2\n",
    "\n",
    "        # 遍历 board 得到一次更新后的状态\n",
    "        for row in range(rows):\n",
    "            for col in range(cols):\n",
    "                if board[row][col] > 0:\n",
    "                    board[row][col] = 1\n",
    "                else:\n",
    "                    board[row][col] = 0\n",
    "        return board\n",
    "a = Solution()\n",
    "a.gameOfLife([[0,1,0],[0,0,1],[1,1,1],[0,0,0]])\n"
   ]
  }
 ],
 "metadata": {
  "kernelspec": {
   "display_name": "DL",
   "language": "python",
   "name": "python3"
  },
  "language_info": {
   "codemirror_mode": {
    "name": "ipython",
    "version": 3
   },
   "file_extension": ".py",
   "mimetype": "text/x-python",
   "name": "python",
   "nbconvert_exporter": "python",
   "pygments_lexer": "ipython3",
   "version": "3.7.12"
  }
 },
 "nbformat": 4,
 "nbformat_minor": 2
}
