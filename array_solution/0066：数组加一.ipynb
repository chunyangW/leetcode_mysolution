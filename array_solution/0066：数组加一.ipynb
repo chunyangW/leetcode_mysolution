{
 "cells": [
  {
   "cell_type": "markdown",
   "metadata": {},
   "source": [
    "示例 1：\n",
    "\n",
    "输入：digits = [1,2,3]\n",
    "输出：[1,2,4]\n",
    "解释：输入数组表示数字 123。\n",
    "示例 2：\n",
    "\n",
    "输入：digits = [4,3,2,1]\n",
    "输出：[4,3,2,2]\n",
    "解释：输入数组表示数字 4321。\n",
    "示例 3：\n",
    "\n",
    "输入：digits = [0]\n",
    "输出：[1]"
   ]
  },
  {
   "cell_type": "code",
   "execution_count": 9,
   "metadata": {},
   "outputs": [
    {
     "name": "stdout",
     "output_type": "stream",
     "text": [
      "[5, 3.5, 2.3499999999999996, 1]\n"
     ]
    }
   ],
   "source": [
    "from typing import List\n",
    "\n",
    "\n",
    "class Solution:\n",
    "    def plusOne(self,digits:List[int]) ->list[int]:\n",
    "        temp = 0\n",
    "        for i in range(len(digits)):\n",
    "            temp += digits[i] * 10**(len(digits)-i-1)\n",
    "        temp += 1\n",
    "        res = []\n",
    "        while temp>10:\n",
    "            ind = temp%10\n",
    "            res.append(ind)\n",
    "            temp = temp/10\n",
    "        res.append(int(temp))\n",
    "        print(res)\n",
    "\n",
    "    \n",
    "a = Solution()\n",
    "a.plusOne([1,2,3,4])\n",
    "\n",
    "'''\n",
    "num = 12345\n",
    "digits = [int(digit) for digit in str(num)]  # 列表循环中每一个字符作为循环遍历量\n",
    "print(digits)  # 输出 [1, 2, 3, 4, 5]\n",
    "'''\n"
   ]
  },
  {
   "cell_type": "code",
   "execution_count": 11,
   "metadata": {},
   "outputs": [
    {
     "name": "stdout",
     "output_type": "stream",
     "text": [
      "[1, 0, 0, 0, 0]\n"
     ]
    }
   ],
   "source": [
    "class Solution:\n",
    "    def plusOne(self,digits:List[int]) ->list[int]:\n",
    "        temp = 0\n",
    "        for i in range(len(digits)):\n",
    "            temp += digits[i] * 10**(len(digits)-i-1)\n",
    "        temp += 1\n",
    "\n",
    "        digits = [int(digit) for digit in str(temp)]  # 列表循环中每一个字符作为循环遍历量\n",
    "        print(digits)  # 输出 [1, 2, 3, 4, 5]\n",
    "a = Solution()\n",
    "a.plusOne([9,9,9,9])"
   ]
  },
  {
   "cell_type": "code",
   "execution_count": 14,
   "metadata": {},
   "outputs": [
    {
     "name": "stdout",
     "output_type": "stream",
     "text": [
      "[9, 0, 0, 0]\n"
     ]
    }
   ],
   "source": [
    "class Solution:\n",
    "    def plusOne(self, digits: List[int]) -> List[int]:\n",
    "        n=1\n",
    "        for i in range (-1,-len(digits)-1,-1):\n",
    "            if digits[i]==9:\n",
    "                digits[i]=0\n",
    "                n+=1\n",
    "            else :\n",
    "                break\n",
    "        if n>1:\n",
    "            if digits[0]==0:\n",
    "                digits=[1]+digits\n",
    "            else:\n",
    "                digits[-n]+=1\n",
    "        else:\n",
    "            digits[-1]+=1\n",
    "        print( digits)\n",
    "    \n",
    "#niuniu\n",
    "\n",
    "a = Solution()\n",
    "a.plusOne([8,9,9,9])"
   ]
  }
 ],
 "metadata": {
  "kernelspec": {
   "display_name": "DL",
   "language": "python",
   "name": "python3"
  },
  "language_info": {
   "codemirror_mode": {
    "name": "ipython",
    "version": 3
   },
   "file_extension": ".py",
   "mimetype": "text/x-python",
   "name": "python",
   "nbconvert_exporter": "python",
   "pygments_lexer": "ipython3",
   "version": "3.9.19"
  }
 },
 "nbformat": 4,
 "nbformat_minor": 2
}
