{
 "cells": [
  {
   "cell_type": "markdown",
   "metadata": {},
   "source": [
    "示例 1：\n",
    "\n",
    "输入：nums = [1, 7, 3, 6, 5, 6]\n",
    "输出：3\n",
    "解释：\n",
    "中心下标是 3 。\n",
    "左侧数之和 sum = nums[0] + nums[1] + nums[2] = 1 + 7 + 3 = 11 ，\n",
    "右侧数之和 sum = nums[4] + nums[5] = 5 + 6 = 11 ，二者相等。\n",
    "示例 2：\n",
    "\n",
    "输入：nums = [1, 2, 3]\n",
    "输出：-1\n",
    "解释：\n",
    "数组中不存在满足此条件的中心下标。\n",
    "示例 3：\n",
    "\n",
    "输入：nums = [2, 1, -1]\n",
    "输出：0\n",
    "解释：\n",
    "中心下标是 0 。\n",
    "左侧数之和 sum = 0 ，（下标 0 左侧不存在元素），\n",
    "右侧数之和 sum = nums[1] + nums[2] = 1 + -1 = 0 。\n",
    " "
   ]
  },
  {
   "cell_type": "code",
   "execution_count": 2,
   "metadata": {},
   "outputs": [
    {
     "data": {
      "text/plain": [
       "-1"
      ]
     },
     "execution_count": 2,
     "metadata": {},
     "output_type": "execute_result"
    }
   ],
   "source": [
    "from typing import List\n",
    "\n",
    "\n",
    "class Solution:\n",
    "    def pivotIndex(self, nums: List[int]) -> int:  \n",
    "        k = len(nums)\n",
    "        for i in range(k):\n",
    "            num1 = nums[:i]\n",
    "            temp1 = sum(num1)\n",
    "            num2 = nums[i+1:]\n",
    "            temp2 = sum(num2)\n",
    "            if temp1 == temp2:\n",
    "                return i\n",
    "        return -1\n",
    "    \n",
    "a= Solution()\n",
    "a.pivotIndex([1,2,3])\n",
    "\n"
   ]
  },
  {
   "cell_type": "markdown",
   "metadata": {},
   "source": [
    "# 牛啊\n"
   ]
  },
  {
   "cell_type": "code",
   "execution_count": 4,
   "metadata": {},
   "outputs": [
    {
     "data": {
      "text/plain": [
       "-1"
      ]
     },
     "execution_count": 4,
     "metadata": {},
     "output_type": "execute_result"
    }
   ],
   "source": [
    "class Solution:\n",
    "    def pivotIndex(self, nums: List[int]) -> int:\n",
    "        s = sum(nums)\n",
    "        leftS = 0\n",
    "        for i, x in enumerate(nums):\n",
    "            if leftS * 2 == s - x:\n",
    "                return i\n",
    "            leftS += x\n",
    "        return -1\n",
    "    \n",
    "a= Solution()\n",
    "a.pivotIndex([1,2,3])\n",
    "\n",
    "# 左边加上中间加上右边就是总和，且左边和等于右边的和那么就是说从左边递增到右边的过程中两倍的左边和加上当前索引的位置就是总和\n"
   ]
  }
 ],
 "metadata": {
  "kernelspec": {
   "display_name": "DL",
   "language": "python",
   "name": "python3"
  },
  "language_info": {
   "codemirror_mode": {
    "name": "ipython",
    "version": 3
   },
   "file_extension": ".py",
   "mimetype": "text/x-python",
   "name": "python",
   "nbconvert_exporter": "python",
   "pygments_lexer": "ipython3",
   "version": "3.9.19"
  }
 },
 "nbformat": 4,
 "nbformat_minor": 2
}
