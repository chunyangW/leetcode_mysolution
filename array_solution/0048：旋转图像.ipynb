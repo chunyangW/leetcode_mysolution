{
 "cells": [
  {
   "cell_type": "code",
   "execution_count": 10,
   "metadata": {},
   "outputs": [
    {
     "data": {
      "text/plain": [
       "[[7, 4, 1], [8, 5, 2], [9, 6, 3]]"
      ]
     },
     "execution_count": 10,
     "metadata": {},
     "output_type": "execute_result"
    }
   ],
   "source": [
    "from typing import List\n",
    "\n",
    "class Solution:\n",
    "    def rotate(self, matrix: List[List[int]]) -> None:\n",
    "      x = len(matrix)   # n*n方阵\n",
    "      # 先转置再列翻转\n",
    "      transposed = [[matrix[j][i] for j in range(x)] for i in range(x)]   # 双循环遍历每一个行列索引\n",
    "      res = [[transposed[n][x-1-m] for m in range(x)] for n in range(x)]  # 这里不能用双循环因为 以m 为索引是对每一行分开操作\n",
    "      # 重要的是 上面的 m 是内循环！！！！n是外循环\n",
    "      return res\n",
    "    \n",
    "\n",
    "mat = [[1,2,3],[4,5,6],[7,8,9]]\n",
    "a = Solution()\n",
    "a.rotate(mat)\n"
   ]
  },
  {
   "cell_type": "code",
   "execution_count": 12,
   "metadata": {},
   "outputs": [
    {
     "data": {
      "text/plain": [
       "[[7, 4, 1], [8, 5, 2], [9, 6, 3]]"
      ]
     },
     "execution_count": 12,
     "metadata": {},
     "output_type": "execute_result"
    }
   ],
   "source": [
    "# 原地旋转\n",
    "\n",
    "from typing import List\n",
    "class Solution:\n",
    "    def rotate(self, matrix: List[List[int]]) -> None:\n",
    "        x = len(matrix)  # n*n方阵\n",
    "        \n",
    "        for i in range(x):\n",
    "            for j in range(i,x):  # 一定是range 从i 到 x 的 因为转置 只交换上部分一对就好了 \n",
    "                matrix[i][j] , matrix[j][i] = matrix[j][i] , matrix[i][j] # 便捷交换两个元素\n",
    "        \n",
    "        for i in range(x):\n",
    "            matrix[i].reverse()\n",
    "        return matrix\n",
    "\n",
    "mat = [[1,2,3],[4,5,6],[7,8,9]]\n",
    "a = Solution()\n",
    "a.rotate(mat)\n"
   ]
  },
  {
   "cell_type": "code",
   "execution_count": 13,
   "metadata": {},
   "outputs": [
    {
     "data": {
      "text/plain": [
       "[[1, 4], [2, 5], [3, 6]]"
      ]
     },
     "execution_count": 13,
     "metadata": {},
     "output_type": "execute_result"
    }
   ],
   "source": [
    "# 非方振转置的研究\n",
    "from typing import List\n",
    "class Solution:\n",
    "    def rotate(self, matrix: List[List[int]]) -> None:\n",
    "        m = len(matrix)  # 行\n",
    "        n = len(matrix[0])  # 列\n",
    "\n",
    "        transposed = [[matrix[j][i] for j in range(m)] for i in range(n)]   # 双循环遍历每一个行列索引\n",
    "        return transposed\n",
    "        \n",
    "\n",
    "mat = [[1,2,3],[4,5,6],]\n",
    "a = Solution()\n",
    "a.rotate(mat)\n"
   ]
  }
 ],
 "metadata": {
  "kernelspec": {
   "display_name": "DL",
   "language": "python",
   "name": "python3"
  },
  "language_info": {
   "codemirror_mode": {
    "name": "ipython",
    "version": 3
   },
   "file_extension": ".py",
   "mimetype": "text/x-python",
   "name": "python",
   "nbconvert_exporter": "python",
   "pygments_lexer": "ipython3",
   "version": "3.9.19"
  }
 },
 "nbformat": 4,
 "nbformat_minor": 2
}
