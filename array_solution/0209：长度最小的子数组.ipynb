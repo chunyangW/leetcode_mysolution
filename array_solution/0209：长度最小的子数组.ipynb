{
 "cells": [
  {
   "cell_type": "markdown",
   "metadata": {},
   "source": [
    "# 这种求最小目标的都是先扩充到满足条件了然后在满足条件下缩短左边"
   ]
  },
  {
   "cell_type": "code",
   "execution_count": null,
   "metadata": {},
   "outputs": [],
   "source": []
  },
  {
   "cell_type": "code",
   "execution_count": null,
   "metadata": {},
   "outputs": [],
   "source": [
    "from typing import List\n",
    "from math import inf\n",
    "class Solution:\n",
    "    def minSubArrayLen(self, target: int, nums: List[int]) -> int:\n",
    "        # 连续的就直接滑动了啊\n",
    "        size = len(nums)\n",
    "        right, left, right_ans, left_ans, Sum= 0, 0, inf, 0, 0\n",
    "        # 每向右扩充到大于等于就马上向左缩进到小于，然后更新为left - 1 到 right\n",
    "        for right in range(size):\n",
    "            Sum += nums[right]\n",
    "            \n",
    "            if Sum >= target:\n",
    "                while Sum >= target: # 先缩减需要一直减到比目标小才能上下一个right\n",
    "                    Sum -= nums[left]\n",
    "                    left += 1\n",
    "                if right - left < right_ans - left_ans:\n",
    "                    right_ans, left_ans = right, left - 1\n",
    "\n",
    "        return right_ans - left_ans + 1 if sum(nums) >= target else 0\n",
    "a = Solution()\n",
    "a.minSubArrayLen(7,[2,3,1,2,4,3])"
   ]
  }
 ],
 "metadata": {
  "language_info": {
   "name": "python"
  }
 },
 "nbformat": 4,
 "nbformat_minor": 2
}
