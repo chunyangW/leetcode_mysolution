{
 "cells": [
  {
   "cell_type": "markdown",
   "metadata": {},
   "source": [
    "### 排序的稳定性其实就是 当 A=B 但是排序之后AB的位置互换了本来是不能互换的\n",
    "如果没有互换就叫做稳定"
   ]
  },
  {
   "cell_type": "code",
   "execution_count": 5,
   "metadata": {},
   "outputs": [
    {
     "data": {
      "text/plain": [
       "[1, 2, 4, 4]"
      ]
     },
     "execution_count": 5,
     "metadata": {},
     "output_type": "execute_result"
    }
   ],
   "source": [
    "import random\n",
    "from typing import List\n",
    "\n",
    "class Solution:\n",
    "    # 随机哨兵划分：从 nums[low: high] 中随机挑选一个基准数，并进行移位排序\n",
    "    def randomPartition(self, nums:  List[int], low: int, high: int) -> int:\n",
    "        # 随机挑选一个基准数\n",
    "        i = random.randint(low, high)   # random.randint(low,high)用法中两边的值可以取到 是闭区间\n",
    "        # 将基准数与最低位互换\n",
    "        nums[i], nums[low] = nums[low], nums[i]\n",
    "        # 以最低位为基准数，然后将数组中比基准数大的元素移动到基准数右侧，比他小的元素移动到基准数左侧。最后将基准数放到正确位置上\n",
    "        return self.partition(nums, low, high)\n",
    "    \n",
    "    # 哨兵划分：以第 1 位元素 nums[low] 为基准数，然后将比基准数小的元素移动到基准数左侧，将比基准数大的元素移动到基准数右侧，最后将基准数放到正确位置上\n",
    "    def partition(self, nums:  List[int], low: int, high: int) -> int:\n",
    "        # 以第 1 位元素为基准数\n",
    "        pivot = nums[low]\n",
    "        \n",
    "        i, j = low, high\n",
    "        while i < j:\n",
    "            # 从右向左找到第 1 个小于基准数的元素\n",
    "            while i < j and nums[j] >= pivot:  # 等于也能一直往下去找直到比它小的\n",
    "                j -= 1\n",
    "            # 从左向右找到第 1 个大于基准数的元素\n",
    "            while i < j and nums[i] <= pivot:\n",
    "                i += 1\n",
    "            # 交换元素\n",
    "            nums[i], nums[j] = nums[j], nums[i]\n",
    "        \n",
    "        # 将基准节点放到正确位置上\n",
    "        nums[i], nums[low] = nums[low], nums[i]\n",
    "        # 返回基准数的索引\n",
    "        return i\n",
    "\n",
    "    def quickSort(self, nums:  List[int], low: int, high: int) ->  List[int]:\n",
    "        if low < high:\n",
    "            # 按照基准数的位置，将数组划分为左右两个子数组\n",
    "            pivot_i = self.randomPartition(nums, low, high)\n",
    "            # 对左右两个子数组分别进行递归快速排序\n",
    "            self.quickSort(nums, low, pivot_i - 1)\n",
    "            self.quickSort(nums, pivot_i + 1, high)\n",
    "\n",
    "        return nums\n",
    "\n",
    "    def sortArray(self, nums:  List[int]) ->  List[int]:\n",
    "        return self.quickSort(nums, 0, len(nums) - 1)\n",
    "    \n",
    "\n",
    "a = Solution()\n",
    "a.sortArray([4,4,2,1])"
   ]
  }
 ],
 "metadata": {
  "kernelspec": {
   "display_name": "DL",
   "language": "python",
   "name": "python3"
  },
  "language_info": {
   "codemirror_mode": {
    "name": "ipython",
    "version": 3
   },
   "file_extension": ".py",
   "mimetype": "text/x-python",
   "name": "python",
   "nbconvert_exporter": "python",
   "pygments_lexer": "ipython3",
   "version": "3.9.19"
  }
 },
 "nbformat": 4,
 "nbformat_minor": 2
}
