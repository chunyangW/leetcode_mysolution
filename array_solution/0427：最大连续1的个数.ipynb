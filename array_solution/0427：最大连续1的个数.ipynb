{
 "cells": [
  {
   "cell_type": "code",
   "execution_count": 1,
   "metadata": {},
   "outputs": [
    {
     "data": {
      "text/plain": [
       "3"
      ]
     },
     "execution_count": 1,
     "metadata": {},
     "output_type": "execute_result"
    }
   ],
   "source": [
    "from typing import List\n",
    "\n",
    "\n",
    "class Solution:\n",
    "    def findMaxConsecutiveOnes(self, nums: List[int]) -> int:\n",
    "        n = len(nums)\n",
    "        temp = 0\n",
    "        res = 0\n",
    "        for i in range(n):  # 不能改变的原因是最后一个已经是跳出for循环了所以不能更新\n",
    "            if nums[i] == 1:\n",
    "                temp += 1\n",
    "            elif temp > res:\n",
    "                res = temp\n",
    "                temp = 0\n",
    "\n",
    "        return res\n",
    "\n",
    "a = Solution()\n",
    "a.findMaxConsecutiveOnes([0,1,1,1,0,1,1,1,1])"
   ]
  },
  {
   "cell_type": "code",
   "execution_count": 2,
   "metadata": {},
   "outputs": [
    {
     "data": {
      "text/plain": [
       "4"
      ]
     },
     "execution_count": 2,
     "metadata": {},
     "output_type": "execute_result"
    }
   ],
   "source": [
    "from typing import List\n",
    "\n",
    "\n",
    "class Solution:\n",
    "    def findMaxConsecutiveOnes(self, nums: List[int]) -> int:\n",
    "        n = len(nums)\n",
    "        temp = 0\n",
    "        res = 0\n",
    "        for i in range(n):  # 不能改变的原因是最后一个已经是跳出for循环了所以不能更新\n",
    "            if nums[i] == 1:\n",
    "                temp += 1\n",
    "            elif temp > res:\n",
    "                res = temp\n",
    "                temp = 0\n",
    "        if temp > res:\n",
    "            res = temp\n",
    "        return res\n",
    "\n",
    "a = Solution()\n",
    "a.findMaxConsecutiveOnes([0,1,1,1,0,1,1,1,1])\n"
   ]
  },
  {
   "cell_type": "code",
   "execution_count": 4,
   "metadata": {},
   "outputs": [
    {
     "data": {
      "text/plain": [
       "4"
      ]
     },
     "execution_count": 4,
     "metadata": {},
     "output_type": "execute_result"
    }
   ],
   "source": [
    "from typing import List\n",
    "\n",
    "class Solution:\n",
    "    def findMaxConsecutiveOnes(self, nums: List[int]) -> int:\n",
    "        temp = 0\n",
    "        res = 0\n",
    "        for i in nums:\n",
    "            if nums[i] == 1:\n",
    "                temp += 1\n",
    "                if temp > res:\n",
    "                    res = temp\n",
    "            else:\n",
    "                temp = 0\n",
    "        return res\n",
    "    \n",
    "\n",
    "a = Solution()\n",
    "a.findMaxConsecutiveOnes([0,1,1,1,0,1,1,1,1])\n"
   ]
  }
 ],
 "metadata": {
  "kernelspec": {
   "display_name": "DL",
   "language": "python",
   "name": "python3"
  },
  "language_info": {
   "codemirror_mode": {
    "name": "ipython",
    "version": 3
   },
   "file_extension": ".py",
   "mimetype": "text/x-python",
   "name": "python",
   "nbconvert_exporter": "python",
   "pygments_lexer": "ipython3",
   "version": "3.9.19"
  }
 },
 "nbformat": 4,
 "nbformat_minor": 2
}
