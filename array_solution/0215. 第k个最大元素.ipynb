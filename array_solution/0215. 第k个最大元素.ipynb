{
 "cells": [
  {
   "cell_type": "code",
   "execution_count": null,
   "metadata": {},
   "outputs": [],
   "source": [
    "# 选择排序的步骤\n",
    "'''\n",
    "先选择哨兵（默认为数组的第一个元素）\n",
    "然后使用两个指针一个在左边一个在右边向中间靠拢\n",
    "然后当发现比哨兵大或者小的就停下 \n",
    "一定要先右边找会在小于标兵的地方强制停下来\n",
    "如果时先从左边找那么最终停下来的是一定大于的那如果右边开始找强制在刚刚找到的地方定下来的那么就会出现错\n",
    "'''"
   ]
  },
  {
   "cell_type": "code",
   "execution_count": 3,
   "metadata": {},
   "outputs": [
    {
     "data": {
      "text/plain": [
       "[1, 2, 2, 3, 4, 7, 8, 9]"
      ]
     },
     "execution_count": 3,
     "metadata": {},
     "output_type": "execute_result"
    }
   ],
   "source": [
    "import random\n",
    "\n",
    "\n",
    "class Solution:   \n",
    "    # 随机哨兵划分：从 nums[low: high + 1] 中随机挑选一个基准数，并进行移位排序           # 为什么要随机挑选\n",
    "    def randomPartition(self, nums: [int], low: int, high: int) -> int:\n",
    "        # 随机挑选一个基准数\n",
    "        i = random.randint(low, high)\n",
    "        # 将基准数与最低位互换\n",
    "        nums[i], nums[low] = nums[low], nums[i]\n",
    "        # 以最低位为基准数，然后将数组中比基准数大的元素移动到基准数右侧，比他小的元素移动到基准数左侧。最后将基准数放到正确位置上\n",
    "        return self.partition(nums, low, high)\n",
    "    \n",
    "    # 哨兵划分：以第 1 位元素 nums[low] 为基准数，然后将比基准数小的元素移动到基准数左侧，将比基准数大的元素移动到基准数右侧，最后将基准数放到正确位置上\n",
    "    def partition(self, nums: [int], low: int, high: int) -> int:\n",
    "        # 以第 1 位元素为基准数\n",
    "        pivot = nums[low]\n",
    "        \n",
    "        i, j = low, high\n",
    "        while i < j:  # 限制i<j\n",
    "            # 从右向左找到第 1 个小于基准数的元素\n",
    "            while i < j and nums[j] >= pivot:  #   一定要注意他先找小于的那么就不会使得在强制遇到结束时交换的终止点大于我们的标兵，那如果时先从左边找那么最终停下来的是一定大于的那如果右边开始找强制在刚刚找到的地方定下来的那么就会出现错\n",
    "                j -= 1\n",
    "            # 从左向右找到第 1 个大于基准数的元素\n",
    "            while i < j and nums[i] <= pivot:\n",
    "                i += 1\n",
    "            # 交换元素\n",
    "            nums[i], nums[j] = nums[j], nums[i]\n",
    "        \n",
    "        # 将基准节点放到正确位置上\n",
    "        nums[i], nums[low] = nums[low], nums[i]\n",
    "        # 返回基准数的索引\n",
    "        return i\n",
    "\n",
    "    def quickSort(self, nums: [int], low: int, high: int) -> [int]:\n",
    "        if low < high:\n",
    "            # 按照基准数的位置，将数组划分为左右两个子数组\n",
    "            pivot_i = self.randomPartition(nums, low, high)\n",
    "            # 对左右两个子数组分别进行递归快速排序\n",
    "            self.quickSort(nums, low, pivot_i - 1)\n",
    "            self.quickSort(nums, pivot_i + 1, high)\n",
    "\n",
    "        return nums\n",
    "\n",
    "    def sortArray(self, nums: [int]) -> [int]:\n",
    "        return self.quickSort(nums, 0, len(nums) - 1)\n",
    "    \n",
    "\n",
    "a = Solution()\n",
    "a.sortArray([4,1,2,2,3,7,8,9])"
   ]
  },
  {
   "cell_type": "markdown",
   "metadata": {},
   "source": [
    "自己写一遍"
   ]
  },
  {
   "cell_type": "code",
   "execution_count": 7,
   "metadata": {},
   "outputs": [
    {
     "data": {
      "text/plain": [
       "[1, 2, 2, 3, 4, 7, 8, 9]"
      ]
     },
     "execution_count": 7,
     "metadata": {},
     "output_type": "execute_result"
    }
   ],
   "source": [
    "class my_quicksort(object):\n",
    "    def quicksort(self, num, low , high):   # 递归函数\n",
    "        if low < high:\n",
    "            pivot_index = self.partition(num, low,high)     # 获得分割后的哨兵的位置便于后面的分割左右两个递归排序\n",
    "            self.quicksort(num, low, pivot_index-1)   \n",
    "            self.quicksort(num,pivot_index + 1, high)\n",
    "        return num  # 返回最终结果\n",
    "    \n",
    "    def partition(self,num,low,high):\n",
    "        pivot = num[low]\n",
    "        i, j = low, high\n",
    "        while i<j:\n",
    "            while i<j and num[j] >= pivot:  #找出比哨兵要小的  必须是先从右边开始找保证找到的终点是比哨兵小的数字才能交换\n",
    "                j -= 1\n",
    "            while i<j and num[i] <= pivot:\n",
    "                i += 1\n",
    "            num[i] , num[j] = num[j], num[i]\n",
    "        # 将哨兵放在正确的位置上\n",
    "        num[low], num[i] = num[i], num[low]\n",
    "        return i\n",
    "    \n",
    "a = my_quicksort()\n",
    "array = [4,1,2,2,3,7,8,9]\n",
    "a.quicksort(array, 0, len(array)-1)"
   ]
  },
  {
   "cell_type": "markdown",
   "metadata": {},
   "source": [
    "215找到第k个最大的元素是也即是先排序然后从右边向中间找最大的第k个元素\n",
    "\n",
    "#### 由此可以发现每次经过「划分」操作后，我们一定可以确定一个元素的最终位置，即 x 的最终位置为 q，并且保证 a[l⋯q−1] 中的每个元素小于等于 a[q]，且 a[q] 小于等于 a[q+1⋯r] 中的每个元素。所以只要某次划分的 q 为倒数第 k 个下标的时候，我们就已经找到了答案。 我们只关心这一点，至于 a[l⋯q−1] 和 a[q+1⋯r] 是否是有序的，我们不关心。\n",
    "\n"
   ]
  },
  {
   "cell_type": "code",
   "execution_count": 15,
   "metadata": {},
   "outputs": [
    {
     "name": "stdout",
     "output_type": "stream",
     "text": [
      "None\n"
     ]
    }
   ],
   "source": [
    "from typing import List\n",
    "\n",
    "class Solution:\n",
    "    def quicksort(self, num, low , high, k):   # 递归函数\n",
    "            if low < high :\n",
    "                pivot_index = self.partition(num, low,high)     # 获得分割后的哨兵的位置便于后面的分割左右两个递归排序\n",
    "                #print(len(num)-k)\n",
    "                if  pivot_index == len(num) - k:\n",
    "                    return num[pivot_index]\n",
    "                self.quicksort(num, low, pivot_index-1,k)   \n",
    "                self.quicksort(num,pivot_index + 1, high,k)\n",
    "\n",
    "    def findKthLargest(self, nums: List[int], k: int) -> int:\n",
    "        high = len(nums) - 1\n",
    "        return self.quicksort(nums,0,high,k)\n",
    "    \n",
    "    def partition(self,num,low,high):\n",
    "            pivot = num[low]\n",
    "            i, j = low, high\n",
    "            while i<j:\n",
    "                while i<j and num[j] >= pivot:  #找出比哨兵要小的  必须是先从右边开始找保证找到的终点是比哨兵小的数字才能交换\n",
    "                    j -= 1\n",
    "                while i<j and num[i] <= pivot:\n",
    "                    i += 1\n",
    "                num[i] , num[j] = num[j], num[i]\n",
    "            # 将哨兵放在正确的位置上\n",
    "            num[low], num[i] = num[i], num[low]\n",
    "            return i\n",
    "\n",
    "a = Solution()\n",
    "print(a.findKthLargest([3,4,1,5,6,1],2))"
   ]
  },
  {
   "cell_type": "code",
   "execution_count": null,
   "metadata": {},
   "outputs": [],
   "source": []
  }
 ],
 "metadata": {
  "kernelspec": {
   "display_name": "pytorch",
   "language": "python",
   "name": "python3"
  },
  "language_info": {
   "codemirror_mode": {
    "name": "ipython",
    "version": 3
   },
   "file_extension": ".py",
   "mimetype": "text/x-python",
   "name": "python",
   "nbconvert_exporter": "python",
   "pygments_lexer": "ipython3",
   "version": "3.10.14"
  }
 },
 "nbformat": 4,
 "nbformat_minor": 2
}
