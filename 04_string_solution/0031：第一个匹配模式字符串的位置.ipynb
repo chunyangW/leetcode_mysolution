{
 "cells": [
  {
   "cell_type": "markdown",
   "metadata": {},
   "source": [
    "- 使用滚动哈希算法\n",
    "  "
   ]
  },
  {
   "cell_type": "code",
   "execution_count": 1,
   "metadata": {},
   "outputs": [
    {
     "name": "stdout",
     "output_type": "stream",
     "text": [
      "97\n"
     ]
    }
   ],
   "source": [
    "class Solution:\n",
    "    def strStr(self, haystack: str, needle: str) -> int:\n",
    "        def RabinKarp(pattern, text, base=256, mod=101):\n",
    "            if len(pattern) > len(text):\n",
    "                return -1\n",
    "\n",
    "            # 计算模式串的哈希值\n",
    "            pattern_hash = 0\n",
    "            for i in range(len(pattern)):\n",
    "                pattern_hash = (pattern_hash * base + ord(pattern[i])) % mod\n",
    "\n",
    "            # 计算第一个子文本串的哈希值\n",
    "            text_hash = 0\n",
    "            for i in range(len(pattern)):\n",
    "                text_hash = (text_hash * base + ord(text[i])) % mod\n",
    "\n",
    "            # 后面要减去最高位的权值\n",
    "            pattern_hash_base = pow(base, len(pattern) - 1) % mod\n",
    "\n",
    "            # 遍历文本串，比较哈希值\n",
    "            for i in range(len(text) - len(pattern) + 1):\n",
    "                if text_hash == pattern_hash:\n",
    "                    # 如果哈希值相同，进一步比较字符串\n",
    "                    is_match = True\n",
    "                    for j in range(len(pattern)):\n",
    "                        if text[i + j] != pattern[j]:\n",
    "                            is_match = False\n",
    "                            break\n",
    "                    if is_match:\n",
    "                        return i  # 返回匹配的起始位置\n",
    "\n",
    "                # 更新文本串的哈希值\n",
    "                if i < len(text) - len(pattern):\n",
    "                    text_hash = (text_hash - ord(text[i]) * pattern_hash_base) % mod\n",
    "                    text_hash = (text_hash * base + ord(text[i + len(pattern)])) % mod\n",
    "\n",
    "            return -1  # 如果没有找到匹配，返回-1\n",
    "        return RabinKarp(needle, haystack)\n"
   ]
  },
  {
   "cell_type": "markdown",
   "metadata": {},
   "source": []
  },
  {
   "cell_type": "code",
   "execution_count": null,
   "metadata": {},
   "outputs": [],
   "source": []
  }
 ],
 "metadata": {
  "kernelspec": {
   "display_name": "DL",
   "language": "python",
   "name": "python3"
  },
  "language_info": {
   "codemirror_mode": {
    "name": "ipython",
    "version": 3
   },
   "file_extension": ".py",
   "mimetype": "text/x-python",
   "name": "python",
   "nbconvert_exporter": "python",
   "pygments_lexer": "ipython3",
   "version": "3.8.19"
  }
 },
 "nbformat": 4,
 "nbformat_minor": 2
}
