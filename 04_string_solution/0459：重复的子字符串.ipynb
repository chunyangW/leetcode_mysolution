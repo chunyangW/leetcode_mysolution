{
 "cells": [
  {
   "cell_type": "code",
   "execution_count": 2,
   "metadata": {},
   "outputs": [
    {
     "name": "stdout",
     "output_type": "stream",
     "text": [
      "[0, 0, 1, 0]\n"
     ]
    }
   ],
   "source": [
    "def GenerateNext(p):\n",
    "            # 生成左移到模式串的哪一位\n",
    "            size = len(p)\n",
    "            nextArray = [0] * size\n",
    "            \n",
    "            i = 0\n",
    "            for j in range(1, size):\n",
    "                while i > 0 and p[i] != p[j]:\n",
    "                    i = nextArray[i - 1] # 又有模式串的 左边的前缀的前缀 等于 右边的后缀的后缀 \n",
    "                if p[i] == p[j]:\n",
    "                    i += 1\n",
    "                    nextArray[j] = i\n",
    "\n",
    "            return nextArray\n",
    "print(GenerateNext(\"abac\"))\n",
    "# 同上我们证明了，当 最长相等前后缀不包含的子串的长度 可以被 字符串s的长度整除，那么不包含的子串 就是s的最小重复子串\n",
    "# https://programmercarl.com/0459.%E9%87%8D%E5%A4%8D%E7%9A%84%E5%AD%90%E5%AD%97%E7%AC%A6%E4%B8%B2.html#%E6%80%9D%E8%B7%AF"
   ]
  },
  {
   "cell_type": "markdown",
   "metadata": {},
   "source": [
    "如果您的字符串 S 包含一个重复的子字符串，那么这意味着您可以多次 “移位和换行”`您的字符串，并使其与原始字符串匹配。\n",
    "\n",
    "例如：abcabc\n",
    "\n",
    "移位一次：cabcab\n",
    "移位两次：bcabca\n",
    "移位三次：abcabc\n",
    "\n",
    "现在字符串和原字符串匹配了，所以可以得出结论存在重复的子串。\n",
    "\n",
    "基于这个思想，可以每次移动k个字符，直到匹配移动 length - 1 次。但是这样对于重复字符串很长的字符串，效率会非常低。在 LeetCode 中执行时间超时了。\n",
    "\n",
    "为了避免这种无用的环绕，可以创建一个新的字符串 str，它等于原来的字符串 S 再加上 S 自身，这样其实就包含了所有移动的字符串。\n",
    "\n",
    "比如字符串：S = acd，那么 str = S + S = acdacd\n",
    "\n",
    "acd 移动的可能：dac、cda。其实都包含在了 str 中了。就像一个滑动窗口\n",
    "\n",
    "一开始 acd (acd) ，移动一次 ac(dac)d，移动两次 a(cda)cd。循环结束\n",
    "\n",
    "所以可以直接判断 str 中去除首尾元素之后，是否包含自身元素。如果包含。则表明存在重复子串。\n",
    "\n",
    "作者：Goodlucky\n",
    "链接：https://leetcode.cn/problems/repeated-substring-pattern/solutions/114572/jian-dan-ming-liao-guan-yu-javaliang-xing-dai-ma-s/"
   ]
  },
  {
   "cell_type": "code",
   "execution_count": null,
   "metadata": {},
   "outputs": [],
   "source": [
    "class Solution:\n",
    "    def repeatedSubstringPattern(self, s: str) -> bool:\n",
    "        if not s or len(s) == 1: return False\n",
    "        ss = (s + s)[1 : -1]\n",
    "        if s in ss:\n",
    "            return True\n",
    "        return False\n",
    "        "
   ]
  }
 ],
 "metadata": {
  "kernelspec": {
   "display_name": "DL",
   "language": "python",
   "name": "python3"
  },
  "language_info": {
   "codemirror_mode": {
    "name": "ipython",
    "version": 3
   },
   "file_extension": ".py",
   "mimetype": "text/x-python",
   "name": "python",
   "nbconvert_exporter": "python",
   "pygments_lexer": "ipython3",
   "version": "3.8.19"
  }
 },
 "nbformat": 4,
 "nbformat_minor": 2
}
