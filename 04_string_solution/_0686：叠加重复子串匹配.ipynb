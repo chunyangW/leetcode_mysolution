{
 "cells": [
  {
   "cell_type": "code",
   "execution_count": 4,
   "metadata": {},
   "outputs": [
    {
     "data": {
      "text/plain": [
       "3"
      ]
     },
     "execution_count": 4,
     "metadata": {},
     "output_type": "execute_result"
    }
   ],
   "source": [
    "class Solution:\n",
    "    def repeatedStringMatch(self, a: str, b: str) -> int:\n",
    "        # 不断叠加，如果大于长度还是不能找到就返回-1如果能找到，返回次数\n",
    "        def nextGenerate(p):\n",
    "            size = len(p)\n",
    "            nextArray = [0] * size\n",
    "            i = 0\n",
    "            for j in range(1, size):\n",
    "                while i > 0 and p[i] != p[j]:\n",
    "                    i = nextArray[i - 1] # i左边的前缀等于 j 左边的后缀，减少移动位数\n",
    "                if p[i] == p[j]:\n",
    "                    i += 1\n",
    "                    nextArray[j] = i\n",
    "            return nextArray\n",
    "\n",
    "        def KMP(p, t, nextArray):\n",
    "            m = len(p)\n",
    "            n = len(t)\n",
    "\n",
    "            j = 0\n",
    "            for i in range(n):        \n",
    "                while j > 0 and p[j] != t[i]:\n",
    "                    j = nextArray[j - 1]\n",
    "                if p[j] == t[i]:\n",
    "                    j += 1\n",
    "                    if j == m:\n",
    "                        return i - j + 1\n",
    "            return -1\n",
    "        \n",
    "        string = \"\"\n",
    "        cnt = 0\n",
    "        nextArray = nextGenerate(b)\n",
    "        while len(string) <= len(b) + len(a):            \n",
    "            cnt += 1\n",
    "            string = string + a\n",
    "            temp = KMP(b, string, nextArray)\n",
    "            if temp != -1:\n",
    "                return cnt\n",
    "\n",
    "        return -1\n",
    "\n",
    "\n",
    "test = Solution()\n",
    "test.repeatedStringMatch(\"abcd\", \"cdabcdab\")"
   ]
  },
  {
   "cell_type": "markdown",
   "metadata": {},
   "source": [
    "## 有一个特点是，如果是b匹配重复的a那么，b一定在a中能有相同的前缀\n"
   ]
  },
  {
   "cell_type": "markdown",
   "metadata": {},
   "source": [
    "    因此可以明确子串的起始位置，不会超过 a 的长度。\n",
    "    最少复制次数是 len(a*k) >= len(b)\n",
    "    所以最多复制次数是 最少的次数加一"
   ]
  },
  {
   "cell_type": "code",
   "execution_count": null,
   "metadata": {},
   "outputs": [],
   "source": [
    "class Solution:\n",
    "    def repeatedStringMatch(self, a: str, b: str) -> int:\n",
    "        # 不断叠加，如果大于长度还是不能找到就返回-1如果能找到，返回次数\n",
    "        def nextGenerate(p):\n",
    "            size = len(p)\n",
    "            nextArray = [0] * size\n",
    "            i = 0\n",
    "            for j in range(1, size):\n",
    "                while i > 0 and p[i] != p[j]:\n",
    "                    i = nextArray[i - 1] # i左边的前缀等于 j 左边的后缀，减少移动位数\n",
    "                if p[i] == p[j]:\n",
    "                    i += 1\n",
    "                    nextArray[j] = i\n",
    "            return nextArray\n",
    "\n",
    "        # 所以根据上下界来返回不同的数值，如果到了最后还没有匹配到模式串尾部返回-1\n",
    "        k = (len(a) + len(b) - 1)//len(a)  # 下界 ，整除加一也就是一定要长于b\n",
    "        string = (k + 1) * a  # 上界\n",
    "        nextArray = nextGenerate(b)\n",
    "        j = 0\n",
    "        for i, c in enumerate(string):        \n",
    "            while j > 0 and c != b[j]:\n",
    "                j = nextArray[j - 1]\n",
    "            if c == b[j]:\n",
    "                j += 1\n",
    "            if j == len(b):\n",
    "                return k if i < k * len(a) else k + 1\n",
    "            if i - j + 1 >= len(a):\n",
    "                return -1 # 起始位置已经大于第一份a了说明第一份a无意义\n",
    "\n",
    "        return -1"
   ]
  }
 ],
 "metadata": {
  "kernelspec": {
   "display_name": "DL",
   "language": "python",
   "name": "python3"
  },
  "language_info": {
   "codemirror_mode": {
    "name": "ipython",
    "version": 3
   },
   "file_extension": ".py",
   "mimetype": "text/x-python",
   "name": "python",
   "nbconvert_exporter": "python",
   "pygments_lexer": "ipython3",
   "version": "3.8.19"
  }
 },
 "nbformat": 4,
 "nbformat_minor": 2
}
