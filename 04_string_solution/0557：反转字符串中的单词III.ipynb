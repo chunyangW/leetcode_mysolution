{
 "cells": [
  {
   "cell_type": "markdown",
   "metadata": {},
   "source": [
    "    在Python中，有几种方法可以用来翻转字符串：\n",
    "\n",
    "1. 使用字符串切片：\n",
    "   ```python\n",
    "   s = \"Hello World\"\n",
    "   reversed_s = s[::-1]\n",
    "   print(reversed_s)  # 输出：dlroW olleH\n",
    "   ```\n",
    "\n",
    "2. 使用 `reversed()` 函数和 `join()` 方法：  **注意reversed函数返回的是一个迭代器需要手动连接，或者是使用List(reversed(string))的方法**\n",
    "   ```python\n",
    "   s = \"Hello World\"\n",
    "   reversed_s = ''.join(reversed(s))\n",
    "   print(reversed_s)  # 输出：dlroW olleH\n",
    "   ```\n",
    "\n",
    "3. 使用 `for` 循环来构建翻转后的字符串：\n",
    "   ```python\n",
    "   s = \"Hello World\"\n",
    "   reversed_s = ''\n",
    "   for char in s:\n",
    "       reversed_s = char + reversed_s\n",
    "   print(reversed_s)  # 输出：dlroW olleH\n",
    "   ```\n"
   ]
  },
  {
   "cell_type": "code",
   "execution_count": 1,
   "metadata": {},
   "outputs": [],
   "source": [
    "class Solution:\n",
    "    def reverseWords(self, s: str) -> str:\n",
    "        # 通过使用.split(\"\")函数将字符串分开存在列表中然后分别反转\n",
    "        seperate = s.split(\" \")\n",
    "        res = \"\"\n",
    "        for item in seperate:\n",
    "            rever_item = \"\".join(reversed(item))\n",
    "            res = res + rever_item + \" \"\n",
    "        return res[:-1]"
   ]
  },
  {
   "cell_type": "code",
   "execution_count": 9,
   "metadata": {},
   "outputs": [
    {
     "data": {
      "text/plain": [
       "<reversed at 0x1f08f95f100>"
      ]
     },
     "execution_count": 9,
     "metadata": {},
     "output_type": "execute_result"
    }
   ],
   "source": [
    "array = \"aabbc\"\n",
    "array[:-1], \n",
    "a = reversed(array)\n",
    "a"
   ]
  },
  {
   "cell_type": "code",
   "execution_count": null,
   "metadata": {},
   "outputs": [],
   "source": [
    "\n",
    "        return \" \".join(string[::-1] for string in s.split(\" \"))"
   ]
  }
 ],
 "metadata": {
  "kernelspec": {
   "display_name": "Python 3",
   "language": "python",
   "name": "python3"
  },
  "language_info": {
   "codemirror_mode": {
    "name": "ipython",
    "version": 3
   },
   "file_extension": ".py",
   "mimetype": "text/x-python",
   "name": "python",
   "nbconvert_exporter": "python",
   "pygments_lexer": "ipython3",
   "version": "3.12.1"
  }
 },
 "nbformat": 4,
 "nbformat_minor": 2
}
