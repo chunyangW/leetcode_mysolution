{
 "cells": [
  {
   "cell_type": "code",
   "execution_count": 2,
   "metadata": {},
   "outputs": [
    {
     "data": {
      "text/plain": [
       "['4', '3', '2', '1']"
      ]
     },
     "execution_count": 2,
     "metadata": {},
     "output_type": "execute_result"
    }
   ],
   "source": [
    "num1 = \"1234\"\n",
    "num1 = list(reversed(num1))\n",
    "num1"
   ]
  },
  {
   "cell_type": "code",
   "execution_count": 3,
   "metadata": {},
   "outputs": [],
   "source": [
    "class Solution:\n",
    "    def addStrings(self, num1: str, num2: str) -> str:  \n",
    "        # 先取反，然后逐个相加并且比较\n",
    "        num1 = list(reversed(num1))\n",
    "        num2 = list(reversed(num2))\n",
    "        carry = 0\n",
    "        size1, size2 = len(num1), len(num2)\n",
    "        i, j = 0, 0\n",
    "        ans = \"\"\n",
    "        while i < size1 or j < size2:\n",
    "            if i >= size1:\n",
    "                n1 = 0\n",
    "                n2 = int(num2[j])\n",
    "            elif j >= size2:\n",
    "                n2 = 0\n",
    "                n1 = int(num1[i])\n",
    "            else:\n",
    "                n1 = int(num1[i])\n",
    "                n2 = int(num2[j])\n",
    "            temp = n1 + n2 + carry\n",
    "            # if temp >= 10:\n",
    "            #     carry = 1\n",
    "            #     res = temp - 10\n",
    "            # else:\n",
    "            #     res = temp\n",
    "            #     # 容易忘记清除carry\n",
    "            #     carry = 0\n",
    "            #下面这种写法太美了\n",
    "            res = temp % 10\n",
    "            carry = temp // 10\n",
    "            ans += str(res)\n",
    "            i += 1\n",
    "            j += 1\n",
    "        # 容易遗忘最后的进位没有添加上\n",
    "        if carry != 0:\n",
    "            ans += str(carry)\n",
    "        return ans[::-1]\n",
    "            \n",
    "\n",
    "\n",
    "\n",
    "            "
   ]
  },
  {
   "cell_type": "code",
   "execution_count": null,
   "metadata": {},
   "outputs": [],
   "source": []
  }
 ],
 "metadata": {
  "kernelspec": {
   "display_name": "Python 3",
   "language": "python",
   "name": "python3"
  },
  "language_info": {
   "codemirror_mode": {
    "name": "ipython",
    "version": 3
   },
   "file_extension": ".py",
   "mimetype": "text/x-python",
   "name": "python",
   "nbconvert_exporter": "python",
   "pygments_lexer": "ipython3",
   "version": "3.12.1"
  }
 },
 "nbformat": 4,
 "nbformat_minor": 2
}
