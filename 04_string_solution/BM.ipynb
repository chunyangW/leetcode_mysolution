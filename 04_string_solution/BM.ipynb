{
 "cells": [
  {
   "cell_type": "markdown",
   "metadata": {},
   "source": [
    "整个 BM 算法步骤描述如下：\n",
    "\n",
    "1. 计算出文本串 $T$ 的长度为 $n$，模式串 $p$ 的长度为 $m$。\n",
    "2. 先对模式串 $p$ 进行预处理，生成坏字符位置表 $bc\\underline{\\hspace{0.5em}}table$ 和好后缀规则后移位数表 $gs\\underline{\\hspace{0.5em}}talbe$。\n",
    "3. 将模式串 $p$ 的头部与文本串 $T$ 对齐，将 $i$ 指向文本串开始位置，即 $i = 0$。$j$ 指向模式串末尾位置，即 $j = m - 1$，然后从模式串末尾位置开始进行逐位比较。\n",
    "   1. 如果文本串对应位置 $T[i + j]$ 上的字符与 $p[j]$ 相同，则继续比较前一位字符。\n",
    "      1. 如果模式串全部匹配完毕，则返回模式串 $p$ 在文本串中的开始位置 $i$。\n",
    "   2. 如果文本串对应位置 $T[i + j]$ 上的字符与 $p[j]$ 不相同，则：\n",
    "      1. 根据坏字符位置表计算出在「坏字符规则」下的移动距离 $bad\\underline{\\hspace{0.5em}}move$。\n",
    "      2. 根据好后缀规则后移位数表计算出在「好后缀规则」下的移动距离 $good\\underline{\\hspace{0.5em}}mode$。\n",
    "      3. 取两种移动距离的最大值，然后对模式串进行移动，即 $i += max(bad\\underline{\\hspace{0.5em}}move, good\\underline{\\hspace{0.5em}}move)$。\n",
    "4. 如果移动到末尾也没有找到匹配情况，则返回 $-1$。"
   ]
  },
  {
   "attachments": {
    "image.png": {
     "image/png": "[encoded data removed]"
    }
   },
   "cell_type": "markdown",
   "metadata": {},
   "source": [
    "- 坏字符规则\n",
    "  \n",
    "![image.png](attachment:image.png)"
   ]
  },
  {
   "cell_type": "code",
   "execution_count": 2,
   "metadata": {},
   "outputs": [
    {
     "data": {
      "text/plain": [
       "{'b': 7, 'd': 3, 'a': 6, 'f': 4, 'c': 5}"
      ]
     },
     "execution_count": 2,
     "metadata": {},
     "output_type": "execute_result"
    }
   ],
   "source": [
    "# 生成坏字符规则\n",
    "def BCrule(c: str)-> dict:\n",
    "    # 坏字符就是将模式字符串中的最后出现的字符位置记录下来\n",
    "    # 在匹配中，如果存在不相等的情况，那么将模式字符串移动到最右边相匹配的位置上\n",
    "    # 移动的位数是当前匹配到的模式串位置 - 最右边出现的位置（如果没有则为-1）\n",
    "    size = len(c)\n",
    "    table = {}\n",
    "    # 遍历一遍，后出现的会将先出现的位置覆盖掉\n",
    "    for i in range(size):\n",
    "        table[c[i]] = i\n",
    "    return table\n",
    "\n",
    "string = \"bdadfcab\"\n",
    "bcTable = BCrule(string)\n",
    "bcTable"
   ]
  },
  {
   "cell_type": "markdown",
   "metadata": {},
   "source": [
    "- 好后缀原则：\n",
    "  - 如果当前判断不相等之前有后缀是匹配的，这个后缀就叫做好后缀\n",
    "  - 如果模式串前缀此时有和后缀相等的部分，那么就可将当前的模式串的前缀移动到后缀相等的地方\n",
    "\n"
   ]
  },
  {
   "cell_type": "code",
   "execution_count": 15,
   "metadata": {},
   "outputs": [
    {
     "data": {
      "text/plain": [
       "[0, 0, 0, 0, 4, 0, 0, 0, 0, 0, 11]"
      ]
     },
     "execution_count": 15,
     "metadata": {},
     "output_type": "execute_result"
    }
   ],
   "source": [
    "# 和KMP算法类似，需要先生成一个类似的子串与最长后缀相等长度的数组\n",
    "\n",
    "# 重点：   suffix[i] 表示为以下标 i 为结尾的子串与模式串后缀匹配的最大长度（结尾说明取得是前面的子串）\n",
    "def generateSuffixArray(p: str):\n",
    "    m = len(p)\n",
    "    # 初始化时假设匹配的最大长度为 m\n",
    "    suffix = [m for _ in range(m)]\n",
    "    # 子串末尾从 m - 2 开始                  \n",
    "    for i in range(m - 2, -1, -1):                  \n",
    "        start = i # start 为子串开始位置\n",
    "        while start >= 0 and p[start] == p[m - 1 - i + start]: # 后面的是后缀向前走\n",
    "            start -= 1                              \n",
    "        suffix[i] = i - start # 更新以下标 i 为结尾的子串与模式串后缀匹配的最大长度\n",
    "    return suffix\n",
    "\n",
    "string = \"ABCDEFGBCDE\"\n",
    "a = generateSuffixArray(string)\n",
    "a"
   ]
  },
  {
   "cell_type": "markdown",
   "metadata": {},
   "source": [
    "有了suffix数组就能求得向右移动的距离了\n",
    "好后缀规则的移动方式可以分为三种情况。\n",
    "\n",
    "- 情况 1：模式串中有子串匹配上好后缀。\n",
    "- 情况 2：模式串中无子串匹配上好后缀，但有最长前缀匹配好后缀的后缀。\n",
    "- 情况 3：模式串中无子串匹配上好后缀，也找不到前缀匹配。\n",
    "情况3可以看成是前缀长度为0 的情况2\n",
    "如果遇到多个情况， 我们应该选择移动长度最小的情况来避免漏掉匹配的情况\n"
   ]
  },
  {
   "cell_type": "code",
   "execution_count": 19,
   "metadata": {},
   "outputs": [
    {
     "data": {
      "text/plain": [
       "[11, 11, 11, 11, 11, 11, 6, 11, 11, 11, 1]"
      ]
     },
     "execution_count": 19,
     "metadata": {},
     "output_type": "execute_result"
    }
   ],
   "source": [
    "# 生成好后缀规则后移位数表\n",
    "\n",
    "# 重点：   suffix[i] 表示为以下标 i 为结尾的子串与模式串后缀匹配的最大长度（结尾说明取得是前面的子串）\n",
    "def generateSuffixArray(p: str):\n",
    "    m = len(p)\n",
    "    # 初始化时假设匹配的最大长度为 m\n",
    "    suffix = [m for _ in range(m)]\n",
    "    # 子串末尾从 m - 2 开始                  \n",
    "    for i in range(m - 2, -1, -1):                  \n",
    "        start = i # start 为子串开始位置\n",
    "        while start >= 0 and p[start] == p[m - 1 - i + start]: # 后面的是后缀向前走\n",
    "            start -= 1                              \n",
    "        suffix[i] = i - start # 更新以下标 i 为结尾的子串与模式串后缀匹配的最大长度\n",
    "    return suffix\n",
    "# gs_list[j] 表示在 j 下标处遇到坏字符时，可根据好规则向右移动的距离\n",
    "\n",
    "\n",
    "def generageGoodSuffixList(p: str):\n",
    "    # 好后缀规则后移位数表\n",
    "    # 情况 1: 模式串中有子串匹配上好后缀\n",
    "    # 情况 2: 模式串中无子串匹配上好后缀，但有最长前缀匹配好后缀的后缀\n",
    "    # 情况 3: 模式串中无子串匹配上好后缀，也找不到前缀匹配\n",
    "    \n",
    "    m = len(p)\n",
    "    gs_list = [m for _ in range(m)]                 # 情况 3：初始化时假设全部为情况 3\n",
    "    suffix = generateSuffixArray(p)                 # 生成 suffix 数组\n",
    "    \n",
    "    j = 0                                           # j 为好后缀前的坏字符位置\n",
    "    for i in range(m - 1, -1, -1):                  # 情况 2：从最长的前缀开始检索\n",
    "        if suffix[i] == i + 1:# 也只有suffix[i] == i + 1是前面最长子串也即是前缀   # 匹配到前缀，即 p[0...i] == p[m-1-i...m-1]\n",
    "            while j < m - 1 - i:\n",
    "                if gs_list[j] == m:\n",
    "                    gs_list[j] = m - 1 - i# 都是一样的，只是遇到的位置不一样# 更新在 j 处遇到坏字符可向后移动位数\n",
    "                j += 1\n",
    "        \n",
    "    for i in range(m - 1):                          # 情况 1：匹配到子串， p[i-s...i] == p[m-1-s, m-1]\n",
    "        # 更新在好后缀的左端点处（m - 1 - suffix[i] 处）遇到坏字符可向后移动位数\n",
    "        gs_list[m - 1 - suffix[i]] = m - 1 - i      # 更新在好后缀的左端点处遇到坏字符可向后移动位数\n",
    "    return gs_list\n",
    "\n",
    "string = \"ABCDEFGBCDE\"\n",
    "a = generageGoodSuffixList(string)\n",
    "a\n",
    "# suffix [0, 0, 0, 0, 4, 0, 0, 0, 0, 0, 11]\n",
    "# 不算情况三gs_list[11, 11, 11, 11, 11, 11, 11, 11, 11, 11, 11]\n",
    "# 算上情况三：[11, 11, 11, 11, 11, 11, 6, 11, 11, 11, 1]"
   ]
  },
  {
   "cell_type": "code",
   "execution_count": 23,
   "metadata": {},
   "outputs": [
    {
     "name": "stdout",
     "output_type": "stream",
     "text": [
      "12\n",
      "0\n"
     ]
    }
   ],
   "source": [
    "# BM 匹配算法\n",
    "def boyerMoore(T: str, p: str) -> int:\n",
    "    n, m = len(T), len(p)\n",
    "    \n",
    "    bc_table = generateBadCharTable(p)              # 生成坏字符位置表\n",
    "    gs_list = generageGoodSuffixList(p)             # 生成好后缀规则后移位数表\n",
    "    \n",
    "    i = 0\n",
    "    while i <= n - m:\n",
    "        j = m - 1\n",
    "        while j > -1 and T[i + j] == p[j]:          # 进行后缀匹配，跳出循环说明出现坏字符\n",
    "            j -= 1\n",
    "        if j < 0:\n",
    "            return i                                # 匹配完成，返回模式串 p 在文本串 T 中的位置\n",
    "        bad_move = j - bc_table.get(T[i + j], -1)   # 坏字符规则下的后移位数\n",
    "        good_move = gs_list[j]                      # 好后缀规则下的后移位数\n",
    "        i += max(bad_move, good_move)               # 取两种规则下后移位数的最大值进行移动\n",
    "    return -1\n",
    "            \n",
    "    \n",
    "# 生成坏字符位置表\n",
    "# bc_table[bad_char] 表示坏字符在模式串中最后一次出现的位置\n",
    "def generateBadCharTable(p: str):\n",
    "    bc_table = dict()\n",
    "    \n",
    "    for i in range(len(p)):\n",
    "        bc_table[p[i]] = i                          # 更新坏字符在模式串中最后一次出现的位置\n",
    "    return bc_table\n",
    "\n",
    "# 生成好后缀规则后移位数表\n",
    "# gs_list[j] 表示在 j 下标处遇到坏字符时，可根据好规则向右移动的距离\n",
    "def generageGoodSuffixList(p: str):\n",
    "    # 好后缀规则后移位数表\n",
    "    # 情况 1: 模式串中有子串匹配上好后缀\n",
    "    # 情况 2: 模式串中无子串匹配上好后缀，但有最长前缀匹配好后缀的后缀\n",
    "    # 情况 3: 模式串中无子串匹配上好后缀，也找不到前缀匹配\n",
    "    \n",
    "    m = len(p)\n",
    "    gs_list = [m for _ in range(m)]                 # 情况 3：初始化时假设全部为情况 3\n",
    "    suffix = generageSuffixArray(p)                 # 生成 suffix 数组\n",
    "    \n",
    "    j = 0                                           # j 为好后缀前的坏字符位置\n",
    "    for i in range(m - 1, -1, -1):                  # 情况 2：从最长的前缀开始检索\n",
    "        if suffix[i] == i + 1:                      # 匹配到前缀，即 p[0...i] == p[m-1-i...m-1]\n",
    "            while j < m - 1 - i:\n",
    "                if gs_list[j] == m:\n",
    "                    gs_list[j] = m - 1 - i          # 更新在 j 处遇到坏字符可向后移动位数\n",
    "                j += 1\n",
    "        \n",
    "    for i in range(m - 1):                          # 情况 1：匹配到子串 p[i-s...i] == p[m-1-s, m-1]\n",
    "        gs_list[m - 1 - suffix[i]] = m - 1 - i      # 更新在好后缀的左端点处遇到坏字符可向后移动位数\n",
    "    return gs_list\n",
    "\n",
    "# 生成 suffix 数组\n",
    "# suffix[i] 表示为以下标 i 为结尾的子串与模式串后缀匹配的最大长度\n",
    "def generageSuffixArray(p: str):\n",
    "    m = len(p)\n",
    "    suffix = [m for _ in range(m)]                  # 初始化时假设匹配的最大长度为 m\n",
    "    for i in range(m - 2, -1, -1):                  # 子串末尾从 m - 2 开始\n",
    "        start = i                                   # start 为子串开始位置\n",
    "        while start >= 0 and p[start] == p[m - 1 - i + start]:\n",
    "            start -= 1                              # 进行后缀匹配，start 为匹配到的子串开始位置\n",
    "        suffix[i] = i - start                       # 更新以下标 i 为结尾的子串与模式串后缀匹配的最大长度\n",
    "    return suffix\n",
    "\n",
    "print(boyerMoore(\"abbcfdddbddcaddebc\", \"add\"))\n",
    "print(boyerMoore(\"\", \"\"))\n"
   ]
  }
 ],
 "metadata": {
  "kernelspec": {
   "display_name": "DL",
   "language": "python",
   "name": "python3"
  },
  "language_info": {
   "codemirror_mode": {
    "name": "ipython",
    "version": 3
   },
   "file_extension": ".py",
   "mimetype": "text/x-python",
   "name": "python",
   "nbconvert_exporter": "python",
   "pygments_lexer": "ipython3",
   "version": "3.8.19"
  }
 },
 "nbformat": 4,
 "nbformat_minor": 2
}
