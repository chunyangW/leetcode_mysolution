{
 "cells": [
  {
   "cell_type": "code",
   "execution_count": 4,
   "metadata": {},
   "outputs": [
    {
     "data": {
      "text/plain": [
       "[0, 0, 0, 0]"
      ]
     },
     "execution_count": 4,
     "metadata": {},
     "output_type": "execute_result"
    }
   ],
   "source": [
    "class Solution:\n",
    "    def multiply(self, num1: str, num2: str) -> str:\n",
    "        l1 = len(num1)\n",
    "        l2 = len(num2)\n",
    "\n",
    "        result = [0 for i in range(l1+l2)]\n",
    "        return result\n",
    "\n",
    "test = Solution()\n",
    "test.multiply(\"13\", \"56\")"
   ]
  },
  {
   "cell_type": "code",
   "execution_count": 3,
   "metadata": {},
   "outputs": [
    {
     "data": {
      "text/plain": [
       "9801"
      ]
     },
     "execution_count": 3,
     "metadata": {},
     "output_type": "execute_result"
    }
   ],
   "source": [
    "99 * 99"
   ]
  },
  {
   "cell_type": "code",
   "execution_count": 7,
   "metadata": {},
   "outputs": [
    {
     "name": "stdout",
     "output_type": "stream",
     "text": [
      "4\n",
      "3\n",
      "2\n",
      "1\n"
     ]
    }
   ],
   "source": [
    "# 倒数的做法，因为上限是-1取不到，所以取到前一个数字0\n",
    "array = [1, 2, 3, 4]\n",
    "for i in range(3, -1, -1):\n",
    "    print(array[i])"
   ]
  },
  {
   "cell_type": "code",
   "execution_count": null,
   "metadata": {},
   "outputs": [],
   "source": [
    "class Solution:\n",
    "    def multiply(self, num1: str, num2: str) -> str:\n",
    "# 先存放每一个位互相乘的结果，同时相同位的相加结果先暂存，最后再处理进位的问题\n",
    "#                9   9   9\n",
    "#          ×     6   7   8\n",
    "#   ----------------------\n",
    "#                72  72  72\n",
    "#            63  63  63\n",
    "#        54  54  54\n",
    "        \n",
    "        if num1 == \"0\" or num2 == \"0\":\n",
    "            return \"0\"\n",
    "        size1, size2 = len(num1), len(num2)\n",
    "\n",
    "        \n",
    "        res = [0 for i in range(size1 + size2 - 1)] # 最高位最后再插入\n",
    "\n",
    "        for i in range(size1):\n",
    "            for j in range(size2):\n",
    "                res[i + j] += int(num1[i]) * int(num2[j])\n",
    "        \n",
    "        # 从后往前进位\n",
    "        temp = 0\n",
    "        for i in range(len(res) - 1, - 1, -1):\n",
    "            Sum = temp + res[i]\n",
    "            res[i] = Sum % 10\n",
    "            temp = Sum // 10\n",
    "\n",
    "        if temp:\n",
    "            res.insert(0, temp)\n",
    "\n",
    "        return \"\".join(map(str,res)) "
   ]
  }
 ],
 "metadata": {
  "kernelspec": {
   "display_name": "Python 3",
   "language": "python",
   "name": "python3"
  },
  "language_info": {
   "codemirror_mode": {
    "name": "ipython",
    "version": 3
   },
   "file_extension": ".py",
   "mimetype": "text/x-python",
   "name": "python",
   "nbconvert_exporter": "python",
   "pygments_lexer": "ipython3",
   "version": "3.12.1"
  }
 },
 "nbformat": 4,
 "nbformat_minor": 2
}
