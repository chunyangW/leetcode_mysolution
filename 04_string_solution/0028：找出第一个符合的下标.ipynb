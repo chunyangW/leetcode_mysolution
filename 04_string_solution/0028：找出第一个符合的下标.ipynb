{
 "cells": [
  {
   "cell_type": "code",
   "execution_count": null,
   "metadata": {},
   "outputs": [],
   "source": [
    "class Solution:\n",
    "    def strStr(self, haystack: str, needle: str) -> int:\n",
    "        # next数组生成函数\n",
    "        def NextGenerator(pattern):\n",
    "            size = len(pattern)\n",
    "\n",
    "            # 先初始化next数组\n",
    "            nextArray = [0] * size\n",
    "\n",
    "            left = 0\n",
    "            # 然后从序号1开始遍历pattern数组\n",
    "            for right in range(1, size):\n",
    "                while left > 0 and pattern[right] != pattern[left]:\n",
    "                    left = nextArray[left - 1]\n",
    "                if pattern[right] == pattern[left]:\n",
    "                    left += 1  # 要先加一，那么记录的就是前缀后面一个，当不相等时跳转就能从前缀后一个开始比较了\n",
    "                    nextArray[right] = left\n",
    "                    \n",
    "            return nextArray\n",
    "        # KMP算法主函数\n",
    "        def KMP(pattern, text):\n",
    "            nextArray = NextGenerator(pattern)\n",
    "            sizeP = len(pattern)\n",
    "            sizeT = len(text)\n",
    "\n",
    "            # 主函数的思想是先匹配，如果不相等了，那么不需要从模式的一开始匹配，而是从公共前缀后面一位开始匹配\n",
    "            # 因为后缀已经匹配过了，不用管了，直接从nextArray[j - 1]去找就好了\n",
    "            i, j = 0, 0\n",
    "            for i in range(sizeT):\n",
    "                while j > 0 and pattern[j] != text[i]:\n",
    "                    j = nextArray[j - 1]\n",
    "                if pattern[j] == text[i]:\n",
    "                    j += 1\n",
    "                    if j == sizeP:  # 匹配到了最后一个位置了\n",
    "                        return  i - j + 1 # i 还没有加一\n",
    "        \n",
    "            return -1\n",
    "        return KMP(needle, haystack)"
   ]
  }
 ],
 "metadata": {
  "kernelspec": {
   "display_name": "DL",
   "language": "python",
   "name": "python3"
  },
  "language_info": {
   "name": "python",
   "version": "3.8.19"
  }
 },
 "nbformat": 4,
 "nbformat_minor": 2
}
