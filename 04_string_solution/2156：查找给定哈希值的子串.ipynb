{
 "cells": [
  {
   "cell_type": "markdown",
   "metadata": {},
   "source": [
    "给定整数 p 和 m ，一个长度为 k 且下标从 0 开始的字符串 s 的哈希值按照如下函数计算：\n",
    "\n",
    "hash(s, p, m) = (val(s[0]) * p0 + val(s[1]) * p1 + ... + val(s[k-1]) * pk-1) mod m.\n",
    "其中 val(s[i]) 表示 s[i] 在字母表中的下标，从 val('a') = 1 到 val('z') = 26 。\n",
    "\n",
    "给你一个字符串 s 和整数 power，modulo，k 和 hashValue 。请你返回 s 中 第一个 长度为 k 的 子串 sub ，满足 hash(sub, power, modulo) == hashValue 。\n",
    "\n",
    "测试数据保证一定 存在 至少一个这样的子串。\n",
    "\n",
    "子串 定义为一个字符串中连续非空字符组成的序列。"
   ]
  },
  {
   "cell_type": "code",
   "execution_count": 27,
   "metadata": {},
   "outputs": [
    {
     "data": {
      "text/plain": [
       "15"
      ]
     },
     "execution_count": 27,
     "metadata": {},
     "output_type": "execute_result"
    }
   ],
   "source": [
    "-5 % 20"
   ]
  },
  {
   "cell_type": "code",
   "execution_count": 8,
   "metadata": {},
   "outputs": [
    {
     "data": {
      "text/plain": [
       "'ee'"
      ]
     },
     "execution_count": 8,
     "metadata": {},
     "output_type": "execute_result"
    }
   ],
   "source": [
    "class Solution:\n",
    "    def subStrHash(self, s: str, power: int, mod: int, k: int, hashValue: int) -> str:\n",
    "        n = len(s)\n",
    "        # 用秦九韶算法计算 s[n-k:] 的哈希值\n",
    "        hash = 0\n",
    "        for i in range(n - 1, n - k - 1, -1):\n",
    "            hash = (hash * power + (ord(s[i]) & 31)) % mod\n",
    "        ans = n - k if hash == hashValue else 0\n",
    "        pk = pow(power, k, mod)\n",
    "        # 向左滑窗\n",
    "        for i in range(n - k - 1, -1, -1):\n",
    "            # 计算新的哈希值\n",
    "            hash = (hash * power + (ord(s[i]) & 31) - pk * (ord(s[i + k]) & 31)) % mod\n",
    "            if hash == hashValue:\n",
    "                ans = i\n",
    "        return s[ans: ans + k]\n",
    "\n",
    "test = Solution()\n",
    "test.subStrHash(\"leetcode\", 7, 20, 2, 0)"
   ]
  },
  {
   "cell_type": "markdown",
   "metadata": {},
   "source": [
    "# 大写小写的字母只要和31取与就能得到排序"
   ]
  },
  {
   "cell_type": "code",
   "execution_count": 12,
   "metadata": {},
   "outputs": [
    {
     "data": {
      "text/plain": [
       "(6, 102, 102)"
      ]
     },
     "execution_count": 12,
     "metadata": {},
     "output_type": "execute_result"
    }
   ],
   "source": [
    "ord(\"f\") & 0b11111, ord(\"f\"), 0b01100110"
   ]
  },
  {
   "cell_type": "code",
   "execution_count": 15,
   "metadata": {},
   "outputs": [
    {
     "data": {
      "text/plain": [
       "(65, 65, 1)"
      ]
     },
     "execution_count": 15,
     "metadata": {},
     "output_type": "execute_result"
    }
   ],
   "source": [
    "ord(\"A\"), 0b1000001 , ord(\"A\") &31"
   ]
  },
  {
   "cell_type": "code",
   "execution_count": null,
   "metadata": {},
   "outputs": [],
   "source": []
  }
 ],
 "metadata": {
  "kernelspec": {
   "display_name": "DL",
   "language": "python",
   "name": "python3"
  },
  "language_info": {
   "codemirror_mode": {
    "name": "ipython",
    "version": 3
   },
   "file_extension": ".py",
   "mimetype": "text/x-python",
   "name": "python",
   "nbconvert_exporter": "python",
   "pygments_lexer": "ipython3",
   "version": "3.8.19"
  }
 },
 "nbformat": 4,
 "nbformat_minor": 2
}
