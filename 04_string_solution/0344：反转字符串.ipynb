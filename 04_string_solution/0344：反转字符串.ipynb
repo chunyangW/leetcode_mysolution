{
 "cells": [
  {
   "cell_type": "code",
   "execution_count": null,
   "metadata": {},
   "outputs": [],
   "source": [
    "from typing import List\n",
    "\n",
    "class Solution:\n",
    "    def reverseString(self, s: List[str]) -> None:\n",
    "        l, r = 0, len(s) - 1\n",
    "        while l <= r:\n",
    "            s[l], s[r] = s[r], s[l]\n",
    "            l += 1 # test\n",
    "            \n",
    "            r -= 1"
   ]
  }
 ],
 "metadata": {
  "kernelspec": {
   "display_name": "DL",
   "language": "python",
   "name": "python3"
  },
  "language_info": {
   "name": "python",
   "version": "3.8.19"
  }
 },
 "nbformat": 4,
 "nbformat_minor": 2
}
