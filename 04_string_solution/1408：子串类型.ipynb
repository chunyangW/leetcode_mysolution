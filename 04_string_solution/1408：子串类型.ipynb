{
 "cells": [
  {
   "cell_type": "code",
   "execution_count": 7,
   "metadata": {},
   "outputs": [
    {
     "data": {
      "text/plain": [
       "['leetcode', 'od', 'am']"
      ]
     },
     "execution_count": 7,
     "metadata": {},
     "output_type": "execute_result"
    }
   ],
   "source": [
    "from typing import List\n",
    "class Solution:\n",
    "    def stringMatching(self, words: List[str]) -> List[str]:\n",
    "        def KMP(p, t) -> False:\n",
    "            m, n = len(p), len(t)\n",
    "            nextArray = [0] * m\n",
    "            left = 0\n",
    "            for right in range(1, m):\n",
    "                while left and p[right] != p[left]:\n",
    "                    left = nextArray[left - 1]\n",
    "                if p[right] == p[left]:\n",
    "                    left += 1\n",
    "                nextArray[right] = left\n",
    "            j = 0\n",
    "            for i in range(n):\n",
    "                while j and p[j] != t[i]:\n",
    "                    j = nextArray[j - 1]\n",
    "                if p[j] == t[i]:\n",
    "                    j += 1\n",
    "                    if j == m:\n",
    "                        return True\n",
    "            return False\n",
    "        # 主函数的思路就是双循环\n",
    "        size = len(words)\n",
    "        ans = []\n",
    "        # 比较与添加不对，应该添加的是外循环的个体，这样如果添加后，就不用找后面的内循环个体了。同时也不用查重。\n",
    "        for i in range(size):\n",
    "            for j in range(size):\n",
    "                # 剪枝\n",
    "                if i == j:\n",
    "                    continue\n",
    "                if len(words[i]) > len(words[j]):\n",
    "                    continue\n",
    "                if KMP(words[i], words[j]): # 固定一个然后，滑动作为子串\n",
    "                    ans.append(words[i])\n",
    "                    break# 当前的i就不用找了\n",
    "                     \n",
    "        return ans\n",
    "\n",
    "test = Solution()\n",
    "test.stringMatching([\"leetcoder\",\"leetcode\",\"od\",\"hamlet\",\"am\"])"
   ]
  }
 ],
 "metadata": {
  "kernelspec": {
   "display_name": "DL",
   "language": "python",
   "name": "python3"
  },
  "language_info": {
   "codemirror_mode": {
    "name": "ipython",
    "version": 3
   },
   "file_extension": ".py",
   "mimetype": "text/x-python",
   "name": "python",
   "nbconvert_exporter": "python",
   "pygments_lexer": "ipython3",
   "version": "3.8.19"
  }
 },
 "nbformat": 4,
 "nbformat_minor": 2
}
