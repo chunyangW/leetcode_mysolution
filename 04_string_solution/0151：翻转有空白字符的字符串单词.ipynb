{
 "cells": [
  {
   "cell_type": "code",
   "execution_count": 5,
   "metadata": {},
   "outputs": [
    {
     "name": "stdout",
     "output_type": "stream",
     "text": [
      "['hello', 'world']\n"
     ]
    }
   ],
   "source": [
    "s = \"  hello world  \"\n",
    "print(s.split()) # 竟然会自动去除"
   ]
  },
  {
   "cell_type": "code",
   "execution_count": 3,
   "metadata": {},
   "outputs": [
    {
     "data": {
      "text/plain": [
       "'world hello'"
      ]
     },
     "execution_count": 3,
     "metadata": {},
     "output_type": "execute_result"
    }
   ],
   "source": [
    "class Solution:\n",
    "    def reverseWords(self, s: str) -> str:\n",
    "        temp = s.split(\" \")\n",
    "        res = \"\"\n",
    "        for i in range(len(temp) - 1, -1, -1):\n",
    "            # 还得对划分出来的\" \"剔除\n",
    "            if temp[i] != \"\":\n",
    "                res = res + temp[i] + \" \"\n",
    "        return res[: -1]\n",
    "    \n",
    "test = Solution()\n",
    "test.reverseWords(\"  hello world  \")"
   ]
  },
  {
   "cell_type": "markdown",
   "metadata": {},
   "source": [
    "### 不调用库 使用空间O（1）\n",
    "- 移除多余空格\n",
    "- 将整个字符串反转\n",
    "- 将每个单词反转"
   ]
  },
  {
   "cell_type": "code",
   "execution_count": 14,
   "metadata": {},
   "outputs": [
    {
     "data": {
      "text/plain": [
       "['h', 'e', 'l', 'l', 'o', ' ', 'w', 'o', 'r', 'l', 'd']"
      ]
     },
     "execution_count": 14,
     "metadata": {},
     "output_type": "execute_result"
    }
   ],
   "source": [
    "class Solution:\n",
    "    def reverseWords(self, s: str) -> str:\n",
    "        pass\n",
    "    def removeblank(self, s):\n",
    "        # 使用双指针慢指针\n",
    "        # 用于记录要最后输出结果的末尾，快指针是在遍历原始字符串\n",
    "        # 慢指针记录的都是有效字符\n",
    "        slow, fast = 0, 0\n",
    "        size = len(s)\n",
    "        s = list(s)\n",
    "        # 先是最前面的空格\n",
    "        while fast < size and s[fast] == \" \":\n",
    "            fast += 1 #直到有效单词\n",
    "        # 然后是中间(这里不区分中间与结尾的单词，结尾最多有一个空格再判断就好)\n",
    "        while fast < size:\n",
    "            if fast - 1 > 0 and s[fast] == s[fast - 1] == \" \":# 首先要排除fast还在第0位的情况\n",
    "                fast += 1\n",
    "            else:\n",
    "                s[slow] = s[fast]\n",
    "                slow += 1\n",
    "                fast += 1\n",
    "        slow -= 1  # 最后加空格后slow又加一了\n",
    "        if s[slow] == \" \":\n",
    "            return s[: slow]\n",
    "        else:\n",
    "            return s[:slow + 1]\n",
    "        \n",
    "test = Solution()\n",
    "test.removeblank(\"  hello     world  \")"
   ]
  }
 ],
 "metadata": {
  "kernelspec": {
   "display_name": "Python 3",
   "language": "python",
   "name": "python3"
  },
  "language_info": {
   "codemirror_mode": {
    "name": "ipython",
    "version": 3
   },
   "file_extension": ".py",
   "mimetype": "text/x-python",
   "name": "python",
   "nbconvert_exporter": "python",
   "pygments_lexer": "ipython3",
   "version": "3.12.1"
  }
 },
 "nbformat": 4,
 "nbformat_minor": 2
}
