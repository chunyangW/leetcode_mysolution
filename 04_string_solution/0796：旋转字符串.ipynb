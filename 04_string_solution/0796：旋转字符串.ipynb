{
 "cells": [
  {
   "cell_type": "markdown",
   "metadata": {},
   "source": [
    "一个字符串旋转后的结果都能，在 string+ string的【1：-1】中找到"
   ]
  },
  {
   "cell_type": "code",
   "execution_count": null,
   "metadata": {},
   "outputs": [],
   "source": [
    "class Solution:\n",
    "    def rotateString(self, s: str, goal: str) -> bool:\n",
    "        # 只要 s + s 后，一定包含任意旋转后的结果就好了\n",
    "        # 如果是本身不算，那么就使用2s[1:-1]\n",
    "        if len(s) != len(goal):\n",
    "            return False\n",
    "        def KMP(t, p):\n",
    "            m = len(t)\n",
    "            n = len(p)\n",
    "            # 生成next数组\n",
    "            nextArray = [0] * n\n",
    "            left = 0\n",
    "            for right in range(1, n):\n",
    "                while left and p[left] != p[right]:\n",
    "                    left = nextArray[left - 1]\n",
    "                if p[left] == p[right]:\n",
    "                    left += 1\n",
    "                nextArray[right] = left\n",
    "            # 主函数匹配\n",
    "            j = 0\n",
    "            for i in range(m):\n",
    "                while j and t[i] != p[j]:\n",
    "                    j = nextArray[j - 1]\n",
    "                if t[i] == p[j]:\n",
    "                    j += 1\n",
    "                    if j == n:\n",
    "                        return i - j + 1\n",
    "            return -1\n",
    "\n",
    "        ss = s + s\n",
    "        if KMP(ss, goal) != -1:\n",
    "            return True\n",
    "        else:\n",
    "            return False"
   ]
  }
 ],
 "metadata": {
  "kernelspec": {
   "display_name": "DL",
   "language": "python",
   "name": "python3"
  },
  "language_info": {
   "name": "python",
   "version": "3.8.19"
  }
 },
 "nbformat": 4,
 "nbformat_minor": 2
}
