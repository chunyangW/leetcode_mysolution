{
 "cells": [
  {
   "cell_type": "markdown",
   "metadata": {},
   "source": [
    "给你一个字符串 s，找到 s 中最长的 \n",
    "回文子串"
   ]
  },
  {
   "cell_type": "code",
   "execution_count": 4,
   "metadata": {},
   "outputs": [
    {
     "data": {
      "text/plain": [
       "'bb'"
      ]
     },
     "execution_count": 4,
     "metadata": {},
     "output_type": "execute_result"
    }
   ],
   "source": [
    "class Solution:\n",
    "    def longestPalindrome(self, s: str) -> str:\n",
    "        def expand(s, left, right) -> tuple:\n",
    "            # 这个子方法目的是将回文序列从中心扩展开来\n",
    "            while left >= 0 and right < len(s) and s[left] == s[right]:\n",
    "                left -= 1\n",
    "                right += 1\n",
    "            return left + 1, right - 1  # 多加减了一次（不符合但是还是移动了）\n",
    "        # 首先减枝\n",
    "        size = len(s)\n",
    "        if size <= 1 or (size == 2 and s[0] == s[1]):\n",
    "            return s\n",
    "        left, right = 0, 0\n",
    "        for i in range(size):\n",
    "            l, r = expand(s, i, i)\n",
    "            if r - l > right - left:\n",
    "                left, right = l, r\n",
    "            # 还存在问题，回文不一定是奇数长度的\n",
    "            l, r = expand(s, i, i + 1)\n",
    "            if r - l > right - left:\n",
    "                left, right = l, r\n",
    "        return s[left: right + 1]\n",
    "\n",
    "test = Solution()\n",
    "test.longestPalindrome(\"cbbd\")"
   ]
  }
 ],
 "metadata": {
  "kernelspec": {
   "display_name": "Python 3",
   "language": "python",
   "name": "python3"
  },
  "language_info": {
   "codemirror_mode": {
    "name": "ipython",
    "version": 3
   },
   "file_extension": ".py",
   "mimetype": "text/x-python",
   "name": "python",
   "nbconvert_exporter": "python",
   "pygments_lexer": "ipython3",
   "version": "3.12.1"
  }
 },
 "nbformat": 4,
 "nbformat_minor": 2
}
