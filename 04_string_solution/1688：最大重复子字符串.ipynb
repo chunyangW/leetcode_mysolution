{
 "cells": [
  {
   "cell_type": "code",
   "execution_count": null,
   "metadata": {},
   "outputs": [],
   "source": [
    "class Solution:\n",
    "    def maxRepeating(self, sequence: str, word: str) -> int:\n",
    "        m = len(sequence)\n",
    "        n = len(word)\n",
    "        k = m // n\n",
    "        s = \"\"\n",
    "        cnt = 0\n",
    "        for i in range(k):\n",
    "            s += word\n",
    "            if s not in sequence:\n",
    "                return cnt\n",
    "            cnt += 1\n",
    "        return cnt"
   ]
  }
 ],
 "metadata": {
  "kernelspec": {
   "display_name": "DL",
   "language": "python",
   "name": "python3"
  },
  "language_info": {
   "name": "python",
   "version": "3.8.19"
  }
 },
 "nbformat": 4,
 "nbformat_minor": 2
}
