{
 "cells": [
  {
   "cell_type": "markdown",
   "metadata": {},
   "source": [
    "- 就是归并排序的并的过程\n",
    "## 重要的是，归并排序就是拆分到一个个单独的节点，这时候是排序好的，也就是在合并过程中保持有序性"
   ]
  },
  {
   "cell_type": "code",
   "execution_count": 4,
   "metadata": {},
   "outputs": [
    {
     "name": "stdout",
     "output_type": "stream",
     "text": [
      "1->3->4->5->5->7->10->None\n"
     ]
    }
   ],
   "source": [
    "from typing import Optional \n",
    "\n",
    "class ListNode:\n",
    "    def __init__(self, val=0, next=None):\n",
    "        self.val = val\n",
    "        self.next = next\n",
    "class Solution:\n",
    "    def mergeTwoLists(self, list1: Optional[ListNode], list2: Optional[ListNode]) -> Optional[ListNode]:\n",
    "        head = ListNode()\n",
    "        cur = head\n",
    "        while list1 and list2:\n",
    "            if list1.val < list2.val:\n",
    "                cur.next = list1\n",
    "                list1 = list1.next\n",
    "            else:\n",
    "                cur.next = list2\n",
    "                list2 = list2.next\n",
    "            cur = cur.next\n",
    "        if list1:\n",
    "            cur.next = list1\n",
    "        elif list2: # 也要判断一下，假如两个同时没有了\n",
    "            cur.next = list2\n",
    "        return head.next\n",
    "\n",
    "\n",
    "# 必须是已排序好的链表才能直接合并，不然就是\n",
    "array = [1, 3, 4, 5]\n",
    "array2 = [5, 7, 10]\n",
    "head = ListNode(array[0])\n",
    "cur = head\n",
    "for i in range(1, len(array)):\n",
    "    node = ListNode(array[i])\n",
    "    cur.next = node\n",
    "    cur = cur.next\n",
    "\n",
    "head2 = ListNode(array2[0])\n",
    "cur = head2\n",
    "for i in range(1, len(array2)):\n",
    "    node = ListNode(array2[i])\n",
    "    cur.next = node\n",
    "    cur = cur.next\n",
    "\n",
    "test = Solution()\n",
    "head = test.mergeTwoLists(head, head2)\n",
    "cur = head\n",
    "while cur:\n",
    "    print(cur.val, end=\"->\")\n",
    "    cur = cur.next\n",
    "\n",
    "print(\"None\")"
   ]
  }
 ],
 "metadata": {
  "kernelspec": {
   "display_name": "DL",
   "language": "python",
   "name": "python3"
  },
  "language_info": {
   "codemirror_mode": {
    "name": "ipython",
    "version": 3
   },
   "file_extension": ".py",
   "mimetype": "text/x-python",
   "name": "python",
   "nbconvert_exporter": "python",
   "pygments_lexer": "ipython3",
   "version": "3.8.19"
  }
 },
 "nbformat": 4,
 "nbformat_minor": 2
}
